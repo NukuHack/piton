{
 "cells": [
  {
   "attachments": {},
   "cell_type": "markdown",
   "metadata": {
    "colab_type": "text",
    "id": "A4fjZRAUhEMC"
   },
   "source": [
    "\n",
    "Bevezető: Python és Jupyter notebook\n",
    "===\n",
    "\n",
    "# <span style=\"color:brown\"> **Bevezetés**\n",
    "\n",
    "A Python programozási nyelvet az 1990-es évek elején fejlesztették ki. Ez egy magas szintű, értelmezett, interaktív és objektumorientált nyelv, amelyet úgy terveztek, hogy könnyen használható legyen. \n",
    "Azóta a Python népszerűsége jelentősen megnőtt, olyannyira, hogy ma már az egyik legelterjedtebb programozási nyelv a gépi tanulás és az adatelemzéssel foglalkozók körében. \n",
    "\n",
    "A Python **értelmezett** és **interaktív**\n",
    "\n",
    "-  A kód futásidőben kerül feldolgozásra \n",
    "-  A végrehajtás előtt nincs szükség előzetes fordításra\n",
    "-  Ebből következően a kódunk soronként futtatható\n",
    "\n",
    "Általábanosságban véve a kód egyszerű szerkezetű. A Python hordozható, az egyik operációs rendszeren írt kód egyszerűen átvihető egy másikra. A Python kompatibilis a Unix, Mac OS, Windows, Android és iOS platformokkal. Nyílt forráskódú, és széles fejlesztői, felhasználói közösség támogatja, amely számos jól dokumentált és fejlett csomagot biztosít numerikus és képelemzéshez.\n",
    "\n",
    "Példák az adatelemzésben leggyakrabban használt csomagokra:\n",
    "\n",
    "- **`NumPy`** a Python tudományos számításokhoz használt alapcsomagja, amelyet többdimenziós tömbök kezelésére használnak. A Numpy dokumentáció linkje:: https://numpy.org/doc/stable/\n",
    "- **`scikit-learn`** gépi tanulási könyvtár, amely támogatja a felügyelt és nem felügyelt tanulási módszereket. Emellett számos eszközt biztosít a modellillesztéshez, adatelőkészítéshez, modellválasztáshoz és értékeléshez. Link a dokumentációhoz: https://scikit-learn.org/stable/user_guide.html![image.png](attachment:image.png)\n",
    "- **`matplotlib`** statikus, animált és interaktív vizualizációk létrehozásához használható csomag. Link a dokumentációhoz: https://matplotlib.org/users/index.html\n",
    "- **`pandas`** adatkezelő és elemző eszköz. Dokumentáció: https://pandas.pydata.org/docs/user_guide/index.html\n",
    "\n",
    "# <span style=\"color:brown\"> **Áttekintés**\n",
    "\n",
    "Az első gyakorlatban áttekintjük a Python nyelv és objektumok alapjait. Jupyter Notebookot fogunk használni, amely egy könnyen használható oktatási és interaktív eszköz, amely lehetővé teszi az írott magyarázatok és kódrészletek kombinálását."
   ]
  },
  {
   "attachments": {},
   "cell_type": "markdown",
   "metadata": {
    "colab_type": "text",
    "id": "PkFta4udhEMK"
   },
   "source": [
    "***\n",
    "\n",
    "# <span style=\"color:brown\"> 1) A Python alapjai\n",
    "\n",
    "A Jupyter Notebook két különböző billentyűzetbemeneti módot kínál:\n",
    "\n",
    "- **Command mode** Ez a billentyűzetet a notebook szintű műveletekhez köti. A szürke cella kerete és a kék bal oldali margó jelzi.\n",
    "- **Edit mode** amikor egy cellában gépel, azt a zöld cella keret jelzi.\n",
    "\n",
    "Néhány hasznos **billentyűparancs** a Jupyter Notebook használatához:\n",
    "- ` Shift + Enter` az aktuális cella futtatása\n",
    "- ` Ctrl + S ` a notebook mentése\n",
    "- ` Ctrl + Z ` visszavonás\n",
    "\n",
    "Command Mode:\n",
    "- ` A ` cella beszúrása felülre\n",
    "- ` B ` cella beszúrása alulra\n",
    "- ` X ` kijelölt cellák kivágása\n",
    "- ` C ` kijelölt cellák másolása\n",
    "- ` V ` cellák beillesztése alulra\n",
    "\n",
    "\n",
    "A notebook első része a Python alapjaira összpontosít, beleértve az egyszerű változókat és tuple-öket, listákat, karakterláncokat és matematikai operátorokat, feltételeket és függvényeket."
   ]
  },
  {
   "attachments": {},
   "cell_type": "markdown",
   "metadata": {},
   "source": [
    "## <span style=\"color:brown\"> **Rendszerbeállítások**\n",
    " \n",
    "### <span style=\"color:red\"> Fontos: </span> Első lépésben importálni kell azokat a csomagokat, amelyeket a későbbiekben használni fogunk.\n",
    "\n",
    "- [numpy](www.numpy.org) a tudományos számításokhoz szükséges csomag.\n",
    "- [random](https://docs.python.org/3/library/random.html) a random számok kezeléséhez szüksége csomag."
   ]
  },
  {
   "cell_type": "code",
   "execution_count": 6,
   "metadata": {},
   "outputs": [],
   "source": [
    "import numpy as np\n",
    "import random"
   ]
  },
  {
   "attachments": {},
   "cell_type": "markdown",
   "metadata": {
    "colab_type": "text",
    "id": "emQ1M8QShEML"
   },
   "source": [
    "## <span style=\"color:brown\"> 1.1) A kód struktúrálása\n",
    "\n",
    "A Python az indentálást (behúzást) használja a programok és szkriptek blokkokba szervezésére a kapcsos zárójelek helyett. Minden kódrészletet egy blokkban vízszintesen kell igazítani, úgy, hogy minden sor ugyanonnan kezdődjön balról.\n",
    "\n",
    "A kódblokk egy olyan Python program szövegrészlet, amelyet egységként lehet végrehajtani. Egy nagyon gyakori példa a kódbetétre egy for ciklus, amelyet hagyományosan akkor használnak, ha van egy kódrészlet, amelyet egy előre meghatározott számú alkalommal szeretnél megismételni. Az alábbi kódrészlet két for ciklust tartalmaz. (Jelenleg nem szükséges minden szintaktikai elem részletes megértése).\n",
    "    \n",
    "### <span style=\"color:red\"> Feladat: </span> \n",
    "- ### Megfigyelhető, hogy a kód minden egyes `for` utasítással jobbra mozog.\n",
    "- ### Futtassuk a kódot `Shift + Enter`paranccsal."
   ]
  },
  {
   "cell_type": "code",
   "execution_count": 39,
   "metadata": {
    "colab": {},
    "colab_type": "code",
    "id": "c7PpPSoYhEMR",
    "outputId": "0fb01589-b66d-4c64-f5d4-47e7cebec764"
   },
   "outputs": [
    {
     "name": "stdout",
     "output_type": "stream",
     "text": [
      "Belépés a második kódblokkba\n",
      "A harmadik kódblokk eredménye; Az új szám: 11\n",
      "A harmadik kódblokk eredménye; Az új szám: 12\n",
      "A harmadik kódblokk eredménye; Az új szám: 13\n",
      "A harmadik kódblokk eredménye; Az új szám: 14\n",
      "A harmadik kódblokk eredménye; Az új szám: 15\n",
      "Belépés a második kódblokkba\n",
      "A harmadik kódblokk eredménye; Az új szám: 21\n",
      "A harmadik kódblokk eredménye; Az új szám: 22\n",
      "A harmadik kódblokk eredménye; Az új szám: 23\n",
      "A harmadik kódblokk eredménye; Az új szám: 24\n",
      "A harmadik kódblokk eredménye; Az új szám: 25\n",
      "Belépés a második kódblokkba\n",
      "A harmadik kódblokk eredménye; Az új szám: 31\n",
      "A harmadik kódblokk eredménye; Az új szám: 32\n",
      "A harmadik kódblokk eredménye; Az új szám: 33\n",
      "A harmadik kódblokk eredménye; Az új szám: 34\n",
      "A harmadik kódblokk eredménye; Az új szám: 35\n",
      "Belépés a második kódblokkba\n",
      "A harmadik kódblokk eredménye; Az új szám: 41\n",
      "A harmadik kódblokk eredménye; Az új szám: 42\n",
      "A harmadik kódblokk eredménye; Az új szám: 43\n",
      "A harmadik kódblokk eredménye; Az új szám: 44\n",
      "A harmadik kódblokk eredménye; Az új szám: 45\n"
     ]
    }
   ],
   "source": [
    "#az első kódblokk, amely két listát definiál\n",
    "elso_lista=[10,20,30,40]\n",
    "masodik_lista=[1,2,3,4,5]\n",
    "\n",
    "for tizes in elso_lista:\n",
    "    #a második kódblokk (végigmegy az elso_lista elemein)\n",
    "    print('Belépés a második kódblokkba') \n",
    "    for egyes in masodik_lista:\n",
    "        #minden tizes esetében végigmegy a masodik_lista elemein)\n",
    "        uj_szam=tizes+egyes\n",
    "        print('A harmadik kódblokk eredménye; Az új szám:', uj_szam)\n"
   ]
  },
  {
   "attachments": {},
   "cell_type": "markdown",
   "metadata": {
    "colab_type": "text",
    "id": "txjs9UlGhEMi"
   },
   "source": [
    "## <span style=\"color:brown\"> 1.2) Üzenet megjelenítése\n",
    "\n",
    "A legegyszerűbb függvény a Pythonban a print. Szöveg kiírásához egyszerűen írja be:"
   ]
  },
  {
   "cell_type": "code",
   "execution_count": 40,
   "metadata": {
    "colab": {},
    "colab_type": "code",
    "id": "bHsn0op9hEMp",
    "outputId": "13ceb0f4-9e11-42eb-e42e-ed8b12f5b6a1"
   },
   "outputs": [
    {
     "name": "stdout",
     "output_type": "stream",
     "text": [
      "Hello World\n"
     ]
    }
   ],
   "source": [
    "print(\"Hello World\")"
   ]
  },
  {
   "attachments": {},
   "cell_type": "markdown",
   "metadata": {
    "colab_type": "text",
    "id": "q_QWgd76hEM2"
   },
   "source": [
    "**Formázott kimenet**\n",
    "\n",
    "Bizonyos esetekben szükséges lehet a kimenet formázása, amelyhez a `format` függvény használható. \n",
    "\n",
    "A függvény használatával lehetőségünk van adattípusok konvertálására és lebegőpontos számok csonkítására is. Az általános szintaxis:\n",
    "\n",
    "`[argumentum]:[szélesség][.pontosság]típus`\n"
   ]
  },
  {
   "cell_type": "code",
   "execution_count": 42,
   "metadata": {
    "colab": {},
    "colab_type": "code",
    "id": "-Gjljp4LhEM5",
    "outputId": "2fd4afce-60bc-4fb4-b29e-0f48d53d9d73"
   },
   "outputs": [
    {
     "name": "stdout",
     "output_type": "stream",
     "text": [
      "egy kettő\n",
      "1 2\n",
      "Pi= 3.14159\n",
      "Pi=     3.14\n"
     ]
    }
   ],
   "source": [
    "# Példák a print függvény kimenetének többféle formázására\n",
    "print('{} {}'.format('egy', 'kettő'))\n",
    "print('{} {}'.format(1,2))\n",
    "print('Pi= {}'.format(3.14159))\n",
    "print('Pi= {0:8.2f}'.format(3.14159))"
   ]
  },
  {
   "attachments": {},
   "cell_type": "markdown",
   "metadata": {
    "colab_type": "text",
    "id": "FRffAKMyhENT"
   },
   "source": [
    "## <span style=\"color:brown\"> 1.3) Megjegyzések\n",
    "    \n",
    "Kettőskereszt beírásával tudjuk jelezni a megjegyzést.\n"
   ]
  },
  {
   "cell_type": "code",
   "execution_count": 43,
   "metadata": {
    "colab": {},
    "colab_type": "code",
    "executionInfo": {
     "elapsed": 680,
     "status": "ok",
     "timestamp": 1599232986263,
     "user": {
      "displayName": "Esther Puyol",
      "photoUrl": "https://lh3.googleusercontent.com/a-/AOh14GgZ5dwQQaWzw8aJu23hC9vdKeJwPEo4DJHmFmNnPA=s64",
      "userId": "17197960287230661203"
     },
     "user_tz": -60
    },
    "id": "q7B34dlihENU"
   },
   "outputs": [],
   "source": [
    "# megjegyzés a kódhoz"
   ]
  },
  {
   "attachments": {},
   "cell_type": "markdown",
   "metadata": {
    "colab_type": "text",
    "id": "9xK7PnRQhENw"
   },
   "source": [
    "## <span style=\"color:brown\"> 1.4) Alapvető adattípusok\n",
    "\n",
    "Mint a legtöbb nyelvben, a Pythonban is léteznek alapvető adattípusok, például egész számok (integers), lebegőpontos számok (floats), logikai értékek (Booleans) és karakterláncok (strings). Ezek az adattípusok hasonlóan viselkednek, mint más programozási nyelvekben.\n",
    "\n",
    "**Számok (Numbers):** Egész (integer) vagy lebegőpontos (floats) számok \n",
    "\n",
    "**Logikai értékek (Booleans):** A Python támogatja a logikai operátorokat, de szimbólumok helyett angol szavakat használ:\n",
    "-\t`and` ÉS\n",
    "-\t`or` VAGY\n",
    "-\t`not` NEM\n",
    "\n",
    "**Szövegek (Strings):** A karakterláncokat egyes `'` vagy dupla idézőjellel `\"\"` lehet definiálni. "
   ]
  },
  {
   "cell_type": "code",
   "execution_count": 44,
   "metadata": {
    "colab": {
     "base_uri": "https://localhost:8080/",
     "height": 235
    },
    "colab_type": "code",
    "executionInfo": {
     "elapsed": 1005,
     "status": "ok",
     "timestamp": 1599233259526,
     "user": {
      "displayName": "Esther Puyol",
      "photoUrl": "https://lh3.googleusercontent.com/a-/AOh14GgZ5dwQQaWzw8aJu23hC9vdKeJwPEo4DJHmFmNnPA=s64",
      "userId": "17197960287230661203"
     },
     "user_tz": -60
    },
    "id": "g_Fq_DlmhEN0",
    "outputId": "ebbc307f-8663-428a-d770-96fd9b4919fb"
   },
   "outputs": [
    {
     "name": "stdout",
     "output_type": "stream",
     "text": [
      "example integer is  9\n",
      "example integer is  9.3\n",
      "casting an integer as a float results in 9.0\n",
      "example booleans are  True  and  False\n",
      "hello world\n",
      "hello world\n",
      "testing if string1 and string2 are equal: True\n",
      "Hello\n",
      "HELLO\n",
      "  hello\n",
      " hello \n",
      "he(ell)(ell)o\n",
      "world\n"
     ]
    }
   ],
   "source": [
    "# egész érték változóhoz rendelése:\n",
    "myint = 9\n",
    "print('example integer is ', myint)\n",
    "\n",
    "# lebegőpontos érték hozzárendelése:\n",
    "myfloat1=9.3\n",
    "myfloat2=float(9)\n",
    "print('example integer is ', myfloat1)\n",
    "print('casting an integer as a float results in', myfloat2)\n",
    "\n",
    "# Logikai változók deklarálása:\n",
    "mybool1 = True\n",
    "mybool2 = False\n",
    "print('example booleans are ', mybool1, ' and ', mybool2)\n",
    "\n",
    "# A szövegek egyszeres vagy dupla idézőjellel definiálhatók: \n",
    "string1=\"hello world\"\n",
    "string2='hello world'\n",
    "print (string1)\n",
    "print(string2)\n",
    "print('testing if string1 and string2 are equal:', string1==string2)\n",
    "\n",
    "# Példák a szövegeken alkalmazható függvényekre:\n",
    "s = \"hello\"\n",
    "# A string első karakterét nagybetűssé alakítja, a többit kicsivé.\n",
    "print(s.capitalize())  \n",
    "# A teljes stringet nagybetűssé alakítja.\n",
    "print(s.upper())    \n",
    "# A szöveget jobbra igazítja, és 7 karakter hosszúságúra bővíti úgy, hogy a bal oldalon szóközöket ad hozzá.   \n",
    "print(s.rjust(7))  \n",
    "# A szöveget középre igazítja, és 7 karakter hosszúságúra bővíti úgy, hogy szóközöket ad hozzá mindkét oldalán.   \n",
    "print(s.center(7))     \n",
    " # Minden 'l' karaktert '(ell)'-re cserél.\n",
    "print(s.replace('l', '(ell)')) \n",
    "# Eltávolítja a vezető és záró szóközöket a stringből.\n",
    "print('  world '.strip())\n",
    "\n"
   ]
  },
  {
   "attachments": {},
   "cell_type": "markdown",
   "metadata": {
    "colab_type": "text",
    "id": "_9WR-NCnhEOG"
   },
   "source": [
    "## <span style=\"color:brown\"> 1.5) Operátorok\n",
    "Az alapvető matematikai operátorok:\n",
    "- összeadás (`+`)\n",
    "- kivonás (`-`)\n",
    "- szorzás (`*`)\n",
    "- osztás (`/` or `//`)\n",
    "- maradékos osztás (`%`)\n",
    "- kitevő (`**`)\n",
    "\n"
   ]
  },
  {
   "cell_type": "code",
   "execution_count": 45,
   "metadata": {
    "colab": {},
    "colab_type": "code",
    "id": "9TetwvoMhEOH",
    "outputId": "b207ee28-942c-46c0-e11c-995b40141111"
   },
   "outputs": [
    {
     "name": "stdout",
     "output_type": "stream",
     "text": [
      "összeadás: 5\n",
      "kivonás: -1\n",
      "szorzás: 6\n",
      "osztás: 0.6666666666666666\n",
      "the remainder following division of 9 by 5 is 4\n",
      "2 to the power 4 is 16\n"
     ]
    }
   ],
   "source": [
    "# Egyszerű matematikai műveletek példái:\n",
    "print('összeadás:', 2+3)\n",
    "print('kivonás:', 2-3)\n",
    "print('szorzás:', 2*3)\n",
    "print('osztás:', 2/3)\n",
    "# A maradék operátor ('%') az osztás utáni egész szám maradékát adja vissza::\n",
    "a=9\n",
    "b=5\n",
    "print('the remainder following division of {} by {} is {}'.format(a, b, a%b))\n",
    "# A '*' kétszeri használata ('**') hatványozást eredményez\n",
    "a=2\n",
    "b=4\n",
    "print('{} to the power {} is {}'.format(a, b, a**b))"
   ]
  },
  {
   "attachments": {},
   "cell_type": "markdown",
   "metadata": {
    "colab_type": "text",
    "id": "XWCXjcQLhEPT"
   },
   "source": [
    "## <span style=\"color:brown\"> 1.6) Feltételek"
   ]
  },
  {
   "cell_type": "code",
   "execution_count": 46,
   "metadata": {
    "colab": {},
    "colab_type": "code",
    "id": "BKtuYC8PhEPT",
    "outputId": "6c4a93fd-de0f-43c8-d787-45e9915c6859"
   },
   "outputs": [
    {
     "name": "stdout",
     "output_type": "stream",
     "text": [
      "True\n",
      "True\n",
      "False\n",
      "False\n",
      "True\n",
      "True\n",
      "True\n"
     ]
    }
   ],
   "source": [
    "a=10\n",
    "print(a==10)\n",
    "print(a<12)\n",
    "print(a>20)\n",
    "\n",
    "# Két feltételes kifejezés egyidejű értékelése 'and', 'or' és 'is' operátorokkal\n",
    "a=10\n",
    "b=12\n",
    "print(a is b)\n",
    "print(a< 15 and b > 10)\n",
    "print (a < 15 or b < 10)\n",
    "\n",
    "# A \"not\" operátor a logikai kifejezés negálására szolgál:\n",
    "print(not a is b)"
   ]
  },
  {
   "attachments": {},
   "cell_type": "markdown",
   "metadata": {
    "colab_type": "text",
    "id": "rqn65VyNhEPX"
   },
   "source": [
    "***\n",
    "\n",
    "# <span style=\"color:brown\"> Gyakorlat: Változók, operátorok és feltételek"
   ]
  },
  {
   "attachments": {},
   "cell_type": "markdown",
   "metadata": {
    "colab_type": "text",
    "id": "ZehV_G0yhEPX"
   },
   "source": [
    "### <span style=\"color:red\"> Gyakorlat 1: A 'print' függvény és szövegek formázása"
   ]
  },
  {
   "cell_type": "code",
   "execution_count": 9,
   "metadata": {
    "colab": {},
    "colab_type": "code",
    "id": "lTs1CVxkhEPY"
   },
   "outputs": [],
   "source": [
    "# Q1. Definiáljunk változókat és írjuk ki őket\n",
    "# pl. a=8; b=7; teststr='Hello World'\n",
    "\n",
    "# Q2. Gyakoroljuk a print utasításokat pl. print('hello world')\n",
    "\n",
    "# Q3. Próbáljuk ki a teststr változó kiíratását (mi történik, ha dupla idézőjeleket használunk?)\n",
    "\n",
    "# Q4. Próbáljuk meg hozzáadni az 'a' változót a 'teststr' változóhoz egy print utasításban\n"
   ]
  },
  {
   "cell_type": "code",
   "execution_count": 47,
   "metadata": {},
   "outputs": [
    {
     "name": "stdout",
     "output_type": "stream",
     "text": [
      "Hello World\n",
      "a=8 and b=7\n",
      "hello world\n",
      "Hello World\n",
      "Hello World 8\n",
      "Hello World 8\n",
      "Hello World 8\n"
     ]
    }
   ],
   "source": [
    "# Megoldások\n",
    "\n",
    "# Q1. Definiáljunk változókat és írjuk ki őket\n",
    "a=8 \n",
    "b=7\n",
    "teststr='Hello World'\n",
    "print(teststr)\n",
    "print(\"a={} and b={}\" .format(a, b))\n",
    "\n",
    "\n",
    "# Q2. Gyakoroljuk a print utasításokat pl. print('hello world')\n",
    "print('hello world')\n",
    "\n",
    "# Q3. Próbáljuk ki a teststr változó kiíratását (mi történik, ha dupla idézőjeleket használunk?)\n",
    "teststr=\"Hello World\"\n",
    "print(teststr)\n",
    "\n",
    "# Q4. Próbáljuk meg hozzáadni az 'a' változót a 'teststr' változóhoz egy print utasításban\n",
    "print('{} {}'.format(teststr,a))\n",
    "print(teststr +' '+ str(a))\n",
    "print(f\"{teststr} {a}\")"
   ]
  },
  {
   "attachments": {},
   "cell_type": "markdown",
   "metadata": {
    "colab_type": "text",
    "id": "9uVQGEI8hEP5"
   },
   "source": [
    "### <span style=\"color:red\"> Gyakorlat 2: Egyszerű műveletek"
   ]
  },
  {
   "cell_type": "code",
   "execution_count": 11,
   "metadata": {
    "colab": {},
    "colab_type": "code",
    "id": "zFfZBcPEhEP5"
   },
   "outputs": [],
   "source": [
    "# Q1. Próbáljunk ki egyszerű matematikai műveleteket, írjuk ki az eredményt:\n",
    "\n",
    "#print(' a+b = ', )\n",
    "#print(' a-b = ', )\n",
    "#print(' a*b = ', )\n",
    "#print(' a/b = ', )\n",
    "\n",
    "# Q2. Matematikai operátorok kombinációja, próbáljuk kombinálni a matematikai operátorokat pl. a*a+b - a/b\n",
    "\n",
    "# Q3. Mi történik a zárójelek hozzáadásával pl. a*(a+b - a/b) vagy (a*a+b - a)/b\n"
   ]
  },
  {
   "cell_type": "code",
   "execution_count": 48,
   "metadata": {
    "colab": {},
    "colab_type": "code",
    "id": "zFfZBcPEhEP5"
   },
   "outputs": [
    {
     "name": "stdout",
     "output_type": "stream",
     "text": [
      " a+b = 15\n",
      " a-b = 1\n",
      " a*b = 56\n",
      " a/b = 1.14\n",
      " a*a+b - a/b = 69.86\n",
      " a*(a+b - a/b) =  110.86\n",
      " (a*a+b - a)/b =  9.00\n"
     ]
    }
   ],
   "source": [
    "# Gyakorlat 2 megoldások\n",
    "\n",
    "# Q1. Próbáljunk ki egyszerű matematikai műveleteket, írjuk ki az eredményt:\n",
    "a=8 \n",
    "b=7\n",
    "\n",
    "print(' a+b = {}'.format(a+b))\n",
    "print(' a-b = {}'.format(a-b))\n",
    "print(' a*b = {}'.format(a*b))\n",
    "print(' a/b = {:.2f}'.format(a/b))\n",
    "\n",
    "# Q2. Matematikai operátorok kombinációja, próbáljuk kombinálni a matematikai operátorokat pl. a*a+b - a/b \n",
    "print(' a*a+b - a/b = {:.2f}' . format(a*a+b-a/b))\n",
    "\n",
    "# Q3 Mi történik a zárójelek hozzáadásával pl. a*(a+b - a/b) vagy (a*a+b - a)/b\n",
    "print(' a*(a+b - a/b) =  {:.2f}' . format(a*(a+b - a/b)))\n",
    "print(' (a*a+b - a)/b =  {:.2f}' .format((a*a+b -a)/b))\n"
   ]
  },
  {
   "attachments": {},
   "cell_type": "markdown",
   "metadata": {
    "colab_type": "text",
    "id": "9HjBEpzohEQB"
   },
   "source": [
    "### <span style=\"color:red\"> Gyakorlat 3: Feltételek"
   ]
  },
  {
   "cell_type": "code",
   "execution_count": 13,
   "metadata": {
    "colab": {},
    "colab_type": "code",
    "id": "ETZ6O76bhEQC"
   },
   "outputs": [
    {
     "name": "stdout",
     "output_type": "stream",
     "text": [
      "a==b\n",
      "2*a==b\n",
      "a>b\n",
      "a<b\n",
      "a is b\n",
      "2*a is b\n"
     ]
    }
   ],
   "source": [
    "# Q1. Változók definiálása\n",
    "\n",
    "a=5\n",
    "b=10\n",
    "teststr1='Hello'\n",
    "teststr2='World'\n",
    "\n",
    "# Q2 Értékeljük az alábbi feltételes állításokat\n",
    "print('a==b',)\n",
    "print('2*a==b',)\n",
    "print('a>b',)\n",
    "print('a<b',)\n",
    "print('a is b',)\n",
    "print('2*a is b',)\n",
    "\n",
    "# Q3. Kombináljuk a feltételeket and/or operátorokkal és írjuk ki az eredményt. Például: 'a == b or b> a' \n",
    "\n",
    "\n",
    "# Q4. Próbáljuk meg az állítások inverzét a not operátorral"
   ]
  },
  {
   "cell_type": "code",
   "execution_count": 49,
   "metadata": {
    "colab": {},
    "colab_type": "code",
    "id": "ETZ6O76bhEQC"
   },
   "outputs": [
    {
     "name": "stdout",
     "output_type": "stream",
     "text": [
      "a==b False\n",
      "2*a==b True\n",
      "a>b False\n",
      "a<b True\n",
      "a is b False\n",
      "2*a is b True\n",
      "True\n",
      "False\n"
     ]
    }
   ],
   "source": [
    "# Gyakorlat 3 megoldások\n",
    "\n",
    "# Q1. Változók definiálása \n",
    "\n",
    "a=5\n",
    "b=10\n",
    "teststr1='Hello'\n",
    "teststr2='World'\n",
    "\n",
    "# Q2 Értékeljük az alábbi feltételes állításokat\n",
    "print('a==b',a==b)\n",
    "print('2*a==b',2*a==b)\n",
    "print('a>b',a>b)\n",
    "print('a<b',a<b)\n",
    "print('a is b',a is b)\n",
    "print('2*a is b',2*a is b)\n",
    "\n",
    "# Q3. Kombináljuk a feltételeket and/or operátorokkal és írjuk ki az eredményt. Például: 'a == b or b> a' \n",
    "print(a==b or b>a)\n",
    "\n",
    "# Q4. Próbáljuk meg az állítások inverzét a not operátorral\n",
    "print(not(a==b or b>a))\n"
   ]
  },
  {
   "attachments": {},
   "cell_type": "markdown",
   "metadata": {
    "colab_type": "text",
    "id": "Du6J5BOBiSeP"
   },
   "source": [
    "***\n",
    "\n",
    "# <span style=\"color:brown\"> 2) Listák\n",
    "    \n",
    "A lista rendezett objektumok gyűjteménye. A lista elemei nem feltétlenül ugyanabból a típusból kell, hogy álljanak, hanem lehetnek számok, szövegek vagy más típusú objektumok tetszőleges keveréke. A listák más listákat is tartalmazhatnak alkategóriaként. Példák listákra:"
   ]
  },
  {
   "cell_type": "code",
   "execution_count": 50,
   "metadata": {
    "colab": {},
    "colab_type": "code",
    "executionInfo": {
     "elapsed": 711,
     "status": "ok",
     "timestamp": 1599230288426,
     "user": {
      "displayName": "Esther Puyol",
      "photoUrl": "https://lh3.googleusercontent.com/a-/AOh14GgZ5dwQQaWzw8aJu23hC9vdKeJwPEo4DJHmFmNnPA=s64",
      "userId": "17197960287230661203"
     },
     "user_tz": -60
    },
    "id": "g8hfBnn_iSeR"
   },
   "outputs": [],
   "source": [
    "emptylist=[] # Üres lista\n",
    "integerlist=[1,2,3,4,5,6] #Egész számokat tartalmazó lista\n",
    "stringlist=['string1', 'string2', 'string3'] #Szövegeket tartalmazó lista\n",
    "mixedlist=[10, \"some string\", 4.2, 2, 'some other string'] #Vegyes típusú adatokat tartalmazó lista\n",
    "# beágyazott lista\n",
    "nestedlist=[['dog','cat','pig'], [1,2,3 ,4], [10, \"some string\", 4.2, 2, 'some other string'] ]"
   ]
  },
  {
   "attachments": {},
   "cell_type": "markdown",
   "metadata": {
    "colab_type": "text",
    "id": "-KjwTzJJiSef"
   },
   "source": [
    "## <span style=\"color:brown\"> 2.1) Indexálás szekvenciális adattípusokban\n",
    "    \n",
    "Az indexálás a szekvenciális adattípusok (pl. lista, tuple, string) elemeinek elérésére szolgál. Az indexek lehetővé teszik, hogy hozzáférjünk a sorozat egy adott eleméhez. Pythonban az indexek 0-tól kezdődnek, tehát <font color='red'> az első elem indexe 0 </font>, a másodiké 1, és így tovább."
   ]
  },
  {
   "cell_type": "code",
   "execution_count": 51,
   "metadata": {
    "colab": {
     "base_uri": "https://localhost:8080/",
     "height": 151
    },
    "colab_type": "code",
    "executionInfo": {
     "elapsed": 666,
     "status": "ok",
     "timestamp": 1599230503093,
     "user": {
      "displayName": "Esther Puyol",
      "photoUrl": "https://lh3.googleusercontent.com/a-/AOh14GgZ5dwQQaWzw8aJu23hC9vdKeJwPEo4DJHmFmNnPA=s64",
      "userId": "17197960287230661203"
     },
     "user_tz": -60
    },
    "id": "JPw3gXeHiSel",
    "outputId": "4c7ca762-b0f9-4a8d-973d-6cdd30988d1e"
   },
   "outputs": [
    {
     "name": "stdout",
     "output_type": "stream",
     "text": [
      "a harmadik elem az egész számok listájában 3\n",
      "a negyedik elem a vegyes lista elemei között 2\n",
      "a hetedik elem a szövegben W\n",
      "a középső két elem az egész számok listájában [3, 4]\n",
      "a kezdetektől a 4. elemig [1, 2, 3, 4]\n",
      "a 4. elemtől a végéig [4, 5, 6]\n",
      "a 4. elemtől egy elemmel a vég előtt [4, 5]\n",
      "fordított indexálás [6, 5, 4, 3, 2, 1]\n",
      "minden második elem [1, 3, 5]\n"
     ]
    }
   ],
   "source": [
    "teststr = 'Hello World'\n",
    "print('a harmadik elem az egész számok listájában', integerlist[2])\n",
    "print('a negyedik elem a vegyes lista elemei között', mixedlist[3])\n",
    "print('a hetedik elem a szövegben', teststr[6])\n",
    "\n",
    "# figyeljük meg, hogy a szeletelés az összes elemet tartalmazza a megadott indexig, de a záró indexet nem\n",
    "print('a középső két elem az egész számok listájában', integerlist[2:4])\n",
    "# szeletelés a kezdetektől az 5. elemig\n",
    "print('a kezdetektől a 4. elemig', integerlist[:4])\n",
    "# szeletelés a 4. elemtől a végéig\n",
    "print('a 4. elemtől a végéig', integerlist[3:])\n",
    "# szeletelés a 4. elemtől egy elemmel a vég előtt\n",
    "print('a 4. elemtől egy elemmel a vég előtt', integerlist[3:-1])\n",
    "# Az indexálás fordítva is elvégezhető:\n",
    "print('fordított indexálás', integerlist[::-1])\n",
    "# vagy nagyobb lépések használatával:\n",
    "print('minden második elem', integerlist[::2])"
   ]
  },
  {
   "attachments": {},
   "cell_type": "markdown",
   "metadata": {
    "colab_type": "text",
    "id": "KM4rTqifiSev"
   },
   "source": [
    "## <span style=\"color:brown\"> 2.2) Hozzárendelés és módosítás\n",
    "    \n",
    "Egy listát az 'append()' függvénnyel tudunk bővíteni"
   ]
  },
  {
   "cell_type": "code",
   "execution_count": 52,
   "metadata": {
    "colab": {},
    "colab_type": "code",
    "id": "P1CZc9UniSew"
   },
   "outputs": [
    {
     "name": "stdout",
     "output_type": "stream",
     "text": [
      "az új egész számok listája [1, 2, 3, 4, 5, 6, 7]\n"
     ]
    }
   ],
   "source": [
    "integerlist.append(7)\n",
    "print('az új egész számok listája', integerlist)"
   ]
  },
  {
   "attachments": {},
   "cell_type": "markdown",
   "metadata": {
    "colab_type": "text",
    "id": "n_YCPJOniSe1"
   },
   "source": [
    "A szövegek és listák hosszát a 'len()' függvény segítségével tudjuk meghatározni:"
   ]
  },
  {
   "cell_type": "code",
   "execution_count": 53,
   "metadata": {
    "colab": {},
    "colab_type": "code",
    "id": "Pt89ZuvpiSe1"
   },
   "outputs": [
    {
     "name": "stdout",
     "output_type": "stream",
     "text": [
      "az új egész számok lista hossza 7\n",
      "a teststr hosszúsága 11\n"
     ]
    }
   ],
   "source": [
    "print('az új egész számok lista hossza', len(integerlist))\n",
    "print('a teststr hosszúsága', len(teststr))"
   ]
  },
  {
   "attachments": {},
   "cell_type": "markdown",
   "metadata": {
    "colab_type": "text",
    "id": "JhYs1ohDiSe3"
   },
   "source": [
    "A listákat össze is tudjuk illeszteni:"
   ]
  },
  {
   "cell_type": "code",
   "execution_count": 54,
   "metadata": {
    "colab": {},
    "colab_type": "code",
    "id": "y7raDTgAiSe4"
   },
   "outputs": [
    {
     "name": "stdout",
     "output_type": "stream",
     "text": [
      "[1, 2, 3, 4, 5, 6, 7, 'string1', 'string2', 'string3']\n"
     ]
    }
   ],
   "source": [
    "print(integerlist+stringlist)"
   ]
  },
  {
   "attachments": {},
   "cell_type": "markdown",
   "metadata": {
    "colab_type": "text",
    "id": "OoVL0Tf6iSe6"
   },
   "source": [
    "A listák elemei kicserélhetők új elemekre:"
   ]
  },
  {
   "cell_type": "code",
   "execution_count": 55,
   "metadata": {},
   "outputs": [
    {
     "name": "stdout",
     "output_type": "stream",
     "text": [
      "[1, 2, 3, 'kicserélt elem', 5, 6, 7]\n"
     ]
    }
   ],
   "source": [
    "integerlist[3] = 'kicserélt elem'\n",
    "print(integerlist)"
   ]
  },
  {
   "attachments": {},
   "cell_type": "markdown",
   "metadata": {
    "colab_type": "text",
    "id": "bWPq8JxkiSfx"
   },
   "source": [
    "***\n",
    "\n",
    "# <span style=\"color:brown\"> Gyakorlatok:"
   ]
  },
  {
   "attachments": {},
   "cell_type": "markdown",
   "metadata": {
    "colab_type": "text",
    "id": "brtLY9GhiSfx"
   },
   "source": [
    "### <span style=\"color:red\"> Gyakorlat 1: Listák\n",
    "\n",
    "- ### Hozzunk létre egy listát egész számokból\n",
    "- ### Irassuk ki a lista hosszát\n",
    "- ### Index alapján találjuk meg a lista elemeit\n",
    "- ### Vegyük ki a lista egyik szeletét\n",
    "- ### Adjunk hozzá egy új, más típusú elemet"
   ]
  },
  {
   "cell_type": "code",
   "execution_count": 56,
   "metadata": {
    "colab": {},
    "colab_type": "code",
    "id": "4KVK7yQ1iSfy"
   },
   "outputs": [
    {
     "name": "stdout",
     "output_type": "stream",
     "text": [
      "1 2 4\n",
      "5\n",
      "[2, 3]\n"
     ]
    }
   ],
   "source": [
    "# Gyakorlat 1 megoldás.\n",
    "\n",
    "mylist=[1,2,3,4,5]\n",
    "\n",
    "# index alapján irassuk ki a mylist elemeit \n",
    "\n",
    "print(mylist[0],mylist[1],mylist[3])\n",
    "\n",
    "# index alapján írjuk ki a lista utolsó elemét\n",
    "\n",
    "print(mylist[-1])\n",
    "\n",
    "# index segítségével irassuk ki a lista egy szeletét\n",
    "\n",
    "print(mylist[1:3])\n",
    "\n",
    "# adjunk a listához egy új elemet\n",
    "\n",
    "mylist.append(43110)"
   ]
  },
  {
   "attachments": {},
   "cell_type": "markdown",
   "metadata": {
    "colab_type": "text",
    "id": "T7zOiKGbiSf0"
   },
   "source": [
    "### <span style=\"color:red\"> Gyakorlat 2: Műveletek szekvenciális adatokon"
   ]
  },
  {
   "cell_type": "code",
   "execution_count": 57,
   "metadata": {
    "colab": {},
    "colab_type": "code",
    "id": "El64J_QyiSf1"
   },
   "outputs": [],
   "source": [
    "string1='Hello'\n",
    "string2='World'\n",
    "list1=['Hello', 'World']\n",
    "list2=[\"I'm\", 'ready', 'to' 'Python']\n",
    "\n",
    "# Q1 Két sztring és két lista összefűzése\n",
    "\n",
    "# Q2  10 másolat összefűzése\n"
   ]
  },
  {
   "cell_type": "code",
   "execution_count": 58,
   "metadata": {
    "colab": {},
    "colab_type": "code",
    "id": "El64J_QyiSf1"
   },
   "outputs": [
    {
     "name": "stdout",
     "output_type": "stream",
     "text": [
      "HelloWorld\n",
      "['Hello', 'World', \"I'm\", 'ready', 'toPython']\n",
      "HelloHelloHelloHelloHelloHelloHelloHelloHelloHello\n"
     ]
    }
   ],
   "source": [
    "# Gyakorlat 2 megoldás\n",
    "\n",
    "string1='Hello'\n",
    "string2='World'\n",
    "list1=['Hello', 'World']\n",
    "list2=[\"I'm\", 'ready', 'to' 'Python']\n",
    "\n",
    "# Q1 Két sztring és két lista összefűzése\n",
    "\n",
    "print(string1+string2)\n",
    "print(list1+list2)\n",
    "\n",
    "# Q2  10 másolat összefűzése\n",
    "\n",
    "print(string1*10)"
   ]
  },
  {
   "cell_type": "markdown",
   "metadata": {
    "colab_type": "text",
    "id": "xSr7yC4SqkcE"
   },
   "source": [
    "***\n",
    "# <span style=\"color:brown\"> 3) NumPy tömbök\n",
    "\n",
    "NumPy a numerikus számításokhoz kínál gyors és hatékony megoldást. "
   ]
  },
  {
   "attachments": {},
   "cell_type": "markdown",
   "metadata": {
    "colab_type": "text",
    "id": "UJfdKganq__e"
   },
   "source": [
    "## <span style=\"color:brown\"> 3.1) A tömb definíciója\n",
    "\n",
    "A NumPy tömb egy olyan adatszerkezet, amely több értéket tartalmaz, és minden érték ugyanabból a típusból származik (pl. számok). A tömb elemeit egy olyan index segítségével érhetjük el, amely nem negatív egész számokból áll (pl. 0, 1, 2, ...).\n",
    "A dimenziók száma a tömb \"rangja\", azaz hogy hány irányban (dimenzióban) tárolunk adatokat. Például egy 1D tömb egy sor adatot tartalmaz, míg egy 2D tömb egy mátrixot (táblázatot) ábrázol.\n",
    "A tömb alakja azt mutatja meg, hogy a tömb hány elemet tartalmaz dimenziónként. A NumPy tömböket úgy hozhatjuk létre, hogy Python listákból alakítjuk őket, és az elemekhez szögletes zárójelek segítségével férhetünk hozzá."
   ]
  },
  {
   "cell_type": "code",
   "execution_count": 7,
   "metadata": {
    "colab": {
     "base_uri": "https://localhost:8080/",
     "height": 118
    },
    "colab_type": "code",
    "executionInfo": {
     "elapsed": 691,
     "status": "ok",
     "timestamp": 1599232381686,
     "user": {
      "displayName": "Esther Puyol",
      "photoUrl": "https://lh3.googleusercontent.com/a-/AOh14GgZ5dwQQaWzw8aJu23hC9vdKeJwPEo4DJHmFmNnPA=s64",
      "userId": "17197960287230661203"
     },
     "user_tz": -60
    },
    "id": "TzwqVJ_6qhGP",
    "outputId": "8faf8d77-93f3-407a-9e32-62357e39f697"
   },
   "outputs": [
    {
     "name": "stdout",
     "output_type": "stream",
     "text": [
      "<class 'numpy.ndarray'>\n",
      "(3,)\n",
      "1 2 3\n",
      "[5 2 3]\n",
      "(2, 3)\n",
      "1 2 4\n"
     ]
    }
   ],
   "source": [
    "# Létrehozunk egy 1D tömböt\n",
    "a = np.array([1, 2, 3])   \n",
    "print(type(a))            \n",
    "print(a.shape)            \n",
    "print(a[0], a[1], a[2])   \n",
    "# Módosítjuk a tömb egy elemét\n",
    "a[0] = 5                  \n",
    "print(a)                 \n",
    "# Hozzunk létre egy 2D tömböt\n",
    "b = np.array([[1,2,3],[4,5,6]])    \n",
    "print(b.shape)                     \n",
    "print(b[0, 0], b[0, 1], b[1, 0])   "
   ]
  },
  {
   "attachments": {},
   "cell_type": "markdown",
   "metadata": {
    "colab_type": "text",
    "id": "cs4Iz3DXrls4"
   },
   "source": [
    "A NumPy számos függvényt biztosít a tömbök létrehozására:\n"
   ]
  },
  {
   "cell_type": "code",
   "execution_count": 8,
   "metadata": {
    "colab": {
     "base_uri": "https://localhost:8080/",
     "height": 168
    },
    "colab_type": "code",
    "executionInfo": {
     "elapsed": 737,
     "status": "ok",
     "timestamp": 1599232424570,
     "user": {
      "displayName": "Esther Puyol",
      "photoUrl": "https://lh3.googleusercontent.com/a-/AOh14GgZ5dwQQaWzw8aJu23hC9vdKeJwPEo4DJHmFmNnPA=s64",
      "userId": "17197960287230661203"
     },
     "user_tz": -60
    },
    "id": "RpiZJ7aDrI-G",
    "outputId": "e913eabd-f138-4a9c-950c-f7ff40fe3b89"
   },
   "outputs": [
    {
     "name": "stdout",
     "output_type": "stream",
     "text": [
      "[[0. 0.]\n",
      " [0. 0.]]\n",
      "[[1. 1.]]\n",
      "[[7 7]\n",
      " [7 7]]\n",
      "[[1. 0.]\n",
      " [0. 1.]]\n",
      "[[0.05809331 0.92954297]\n",
      " [0.54405483 0.8949076 ]]\n"
     ]
    }
   ],
   "source": [
    "# Hozzunk létre egy 2x2-es tömböt, amelynek minden eleme 0\n",
    "a = np.zeros((2,2))   \n",
    "print(a)             \n",
    "\n",
    "# Hozzunk létre egy 1x2-es tömböt, amelynek minden eleme 1\n",
    "b = np.ones((1,2))    \n",
    "print(b)              \n",
    "\n",
    "# Hozzunk létre egy 2x2-es konstans tömböt, ahol minden elem 7\n",
    "c = np.full((2,2), 7)  \n",
    "print(c)              \n",
    "\n",
    "# Hozzunk létre egy 2x2-es egység mátrixot. A 2x2-es egység mátrix egy négyzetes mátrix, amelynek minden átlón kívüli eleme 0, míg az átlójában lévő elemek mind 1-esek.\n",
    "d = np.eye(2)         \n",
    "print(d)              \n",
    "\n",
    "# Hozzunk létre egy 2x2-es tömböt, amelyet véletlenszerű értékek töltenek ki\n",
    "e = np.random.random((2,2))  \n",
    "print(e)                    "
   ]
  },
  {
   "attachments": {},
   "cell_type": "markdown",
   "metadata": {
    "colab_type": "text",
    "id": "Wiju8I67vI4I"
   },
   "source": [
    "    ## <span style=\"color:brown\"> 3.2) Tömb indexelése\n",
    "    \n",
    "    A NumPy többféle módot kínál a tömbök indexelésére. Hasonlóan a listákhoz, a NumPy tömbök is szeletelhetők. Mivel a tömbök lehetnek többdimenziósak, minden dimenzióhoz külön szeletet kell megadni:"
   ]
  },
  {
   "cell_type": "code",
   "execution_count": 9,
   "metadata": {
    "colab": {},
    "colab_type": "code",
    "id": "gU9kmgjbvQCo"
   },
   "outputs": [
    {
     "name": "stdout",
     "output_type": "stream",
     "text": [
      "[[ 1  2  3  4]\n",
      " [ 5  6  7  8]\n",
      " [ 9 10 11 12]]\n",
      "[[2 3]\n",
      " [6 7]]\n",
      "2\n",
      "77\n"
     ]
    }
   ],
   "source": [
    "# Hozzunk létre egy 2D tömböt (3, 4) alakzattal\n",
    "# [[ 1  2  3  4]\n",
    "#  [ 5  6  7  8]\n",
    "#  [ 9 10 11 12]]\n",
    "a = np.array([[1, 2, 3, 4], [5, 6, 7, 8], [9, 10, 11, 12]])\n",
    "print(a)\n",
    "\n",
    "# Használjunk szeletelést a tömb első 2 sorának és 1-2. oszlopának kiválasztására\n",
    "b = a[:2, 1:3]\n",
    "print(b)\n",
    "\n",
    "# Figyeljük meg, hogy a szeletelés egy módja annak, hogy megtekintsük a tömb adatait,\n",
    "# és ez azt jelenti, hogy a két objektum adatai megosztottak. Ezért ha módosítjuk a 'b'-t,\n",
    "# akkor az eredeti tömb is módosulni fog.\n",
    "print(a[0, 1])   # Eredetileg: 2\n",
    "b[0, 0] = 77     # Módosítjuk a 'b' első elemét\n",
    "print(a[0, 1])   # Az eredeti tömb is módosult: 77"
   ]
  },
  {
   "attachments": {},
   "cell_type": "markdown",
   "metadata": {
    "colab_type": "text",
    "id": "eYurgvcEvYIb"
   },
   "source": [
    "Szám-indexelést és szeletelést is kombinálhatunk. Azonban, ha ezt megtesszük, akkor az eredményül kapott tömb alacsonyabb rangú lesz, mint az eredeti tömb."
   ]
  },
  {
   "cell_type": "code",
   "execution_count": 10,
   "metadata": {
    "colab": {
     "base_uri": "https://localhost:8080/",
     "height": 118
    },
    "colab_type": "code",
    "executionInfo": {
     "elapsed": 911,
     "status": "ok",
     "timestamp": 1599233465310,
     "user": {
      "displayName": "Esther Puyol",
      "photoUrl": "https://lh3.googleusercontent.com/a-/AOh14GgZ5dwQQaWzw8aJu23hC9vdKeJwPEo4DJHmFmNnPA=s64",
      "userId": "17197960287230661203"
     },
     "user_tz": -60
    },
    "id": "jmKDYSvdvagK",
    "outputId": "5c06328d-cccb-4c46-8d2e-c12688e834ff"
   },
   "outputs": [
    {
     "name": "stdout",
     "output_type": "stream",
     "text": [
      "[5 6 7 8] (4,)\n",
      "[[5 6 7 8]] (1, 4)\n",
      "[ 2  6 10] (3,)\n",
      "[[ 2]\n",
      " [ 6]\n",
      " [10]] (3, 1)\n"
     ]
    }
   ],
   "source": [
    "# Hozzuk létre a következő, (3, 4) alakú, 2D tömböt\n",
    "# [[ 1  2  3  4]\n",
    "#  [ 5  6  7  8]\n",
    "#  [ 9 10 11 12]]\n",
    "a = np.array([[1,2,3,4], [5,6,7,8], [9,10,11,12]])\n",
    "\n",
    "# Ha a második sort szeretnénk kiválasztani, annak két módja van.\n",
    "# Ha egy sorhoz/oszlophoz egész számokkal indexelve férünk hozzá (a[1, :] vagy a[:, 1]), 1D tömböt kapunk.\n",
    "# Ha szeleteléssel (a[1:2, :] vagy a[:, 1:2]), 2D tömböt kapunk, amely megőrzi az eredeti dimenziókat.\n",
    "row_r1 = a[1, :]    # Az 'a' második sorának 1D nézete\n",
    "row_r2 = a[1:2, :]  # Az 'a' második sorának 2D nézete\n",
    "print(row_r1, row_r1.shape)  \n",
    "print(row_r2, row_r2.shape)  \n",
    "\n",
    "# Ugyanez vonatkozik a tömb oszlopainak elérésére is:\n",
    "col_r1 = a[:, 1]\n",
    "col_r2 = a[:, 1:2]\n",
    "print(col_r1, col_r1.shape)  \n",
    "print(col_r2, col_r2.shape)  "
   ]
  },
  {
   "attachments": {},
   "cell_type": "markdown",
   "metadata": {
    "colab_type": "text",
    "id": "gGYl2CG9v5ay"
   },
   "source": [
    "## <span style=\"color:brown\"> 3.3) Boolean tömb indexelés\n",
    "\n",
    "A Boolean tömb indexelés lehetővé teszi egy tömb tetszőleges elemeinek kiválasztását. Gyakran ezt a fajta indexelést arra használják, hogy egy tömb azon elemeit válasszák ki, amelyek megfelelnek egy adott feltételnek."
   ]
  },
  {
   "cell_type": "code",
   "execution_count": 11,
   "metadata": {
    "colab": {},
    "colab_type": "code",
    "id": "qJZq0Zotv85j"
   },
   "outputs": [
    {
     "name": "stdout",
     "output_type": "stream",
     "text": [
      "[[False False]\n",
      " [ True  True]\n",
      " [ True  True]]\n",
      "[3 4 5 6]\n",
      "[3 4 5 6]\n"
     ]
    }
   ],
   "source": [
    "a = np.array([[1,2], [3, 4], [5, 6]])\n",
    "\n",
    "# Keressük meg azokat az elemeket az 'a' tömbben, amelyek nagyobbak, mint 2.\n",
    "# Ez egy olyan NumPy tömböt ad vissza, amely Booleán értékeket tartalmaz, és ugyanolyan alakú, mint 'a'.\n",
    "# A bool_idx jelzi azt, hogy az adott elem nagyobb-e, mint 2.\n",
    "bool_idx = (a > 2)   \n",
    "\n",
    "print(bool_idx)     \n",
    "\n",
    "# Boolean tömb indexelést használunk egy 1D tömb létrehozásához,\n",
    "# amely csak azokat az elemeket tartalmazza, ahol a bool_idx értéke True.\n",
    "print(a[bool_idx])  \n",
    "\n",
    "# A fenti műveletet egyetlen rövid utasítással is végrehajtható:\n",
    "print(a[a > 2])  "
   ]
  },
  {
   "attachments": {},
   "cell_type": "markdown",
   "metadata": {
    "colab_type": "text",
    "id": "ghgeCSyFwIpB"
   },
   "source": [
    "***\n",
    "\n",
    "# <span style=\"color:brown\"> Gyakorlatok: NumPy"
   ]
  },
  {
   "attachments": {},
   "cell_type": "markdown",
   "metadata": {
    "colab": {},
    "colab_type": "code",
    "id": "HSlTu37AwIYM"
   },
   "source": [
    "### <span style=\"color:red\"> Gyakorlat 1: </span> Írjunk egy NumPy scriptet, amely numerikus értékeket tartalmazó listát egy egydimenziós NumPy tömbbé alakít.\n",
    "\n",
    "Eredeti lista: [12.23, 13.32, 100, 36.32]\n",
    "\n",
    "Egydimenziós NumPy tömb: [ 12.23 13.32 100. 36.32]"
   ]
  },
  {
   "cell_type": "code",
   "execution_count": 12,
   "metadata": {
    "colab": {},
    "colab_type": "code",
    "id": "qj4zlTuvxevf"
   },
   "outputs": [
    {
     "name": "stdout",
     "output_type": "stream",
     "text": [
      "Eredeti lista: [12.23, 13.32, 100, 36.32]\n",
      "Egydimenziós NumPy tömb:  [ 12.23  13.32 100.    36.32]\n"
     ]
    }
   ],
   "source": [
    "# Gyakorlat 1 megoldás\n",
    "l = [12.23, 13.32, 100, 36.32]\n",
    "print(\"Eredeti lista:\",l)\n",
    "a = np.array(l)\n",
    "print(\"Egydimenziós NumPy tömb: \",a)"
   ]
  },
  {
   "attachments": {},
   "cell_type": "markdown",
   "metadata": {
    "colab_type": "text",
    "id": "7ly6voRcx543"
   },
   "source": [
    "### <span style=\"color:red\"> Gyakorlat 2: </span> Írjunk egy NumPy scriptet, amely létrehoz egy 10 elemű nullvektort, és a hetedik elem értékét frissíti 11-re\n",
    "\n",
    "Várt kimenet: \n",
    "```\n",
    "[ 0. 0. 0. 0. 0. 0. 11. 0. 0. 0.]```"
   ]
  },
  {
   "cell_type": "code",
   "execution_count": 13,
   "metadata": {
    "colab": {},
    "colab_type": "code",
    "id": "B_LPtMwxxoA7"
   },
   "outputs": [
    {
     "name": "stdout",
     "output_type": "stream",
     "text": [
      "[0. 0. 0. 0. 0. 0. 0. 0. 0. 0.]\n",
      "A hetedik elem értékének frissítése 11-re\n",
      "[ 0.  0.  0.  0.  0.  0. 11.  0.  0.  0.]\n"
     ]
    }
   ],
   "source": [
    "# Gyakorlat 2 megoldás\n",
    "x = np.zeros(10)\n",
    "print(x)\n",
    "print(\"A hetedik elem értékének frissítése 11-re\")\n",
    "x[6] = 11\n",
    "print(x)"
   ]
  },
  {
   "attachments": {},
   "cell_type": "markdown",
   "metadata": {
    "colab_type": "text",
    "id": "LhjrCjaoxqdw"
   },
   "source": [
    "### <span style=\"color:red\"> Gyakorlat 3: </span>Írjunk egy NumPy scriptet, amely létrehoz egy 3×3-as mátrixot, amelynek értékei 2-től 10-ig terjednek.\n",
    "\n",
    "Várt kimenet:\n",
    "```\n",
    "[[ 2 3 4]\n",
    "[ 5 6 7]\n",
    "[ 8 9 10]]```"
   ]
  },
  {
   "cell_type": "code",
   "execution_count": 14,
   "metadata": {
    "colab": {},
    "colab_type": "code",
    "id": "lPOaKHenxqwu"
   },
   "outputs": [
    {
     "name": "stdout",
     "output_type": "stream",
     "text": [
      "[[ 2  3  4]\n",
      " [ 5  6  7]\n",
      " [ 8  9 10]]\n"
     ]
    }
   ],
   "source": [
    "# Gyakorlat 3 megoldás\n",
    "x =  np.arange(2, 11).reshape(3,3)\n",
    "print(x)"
   ]
  },
  {
   "attachments": {},
   "cell_type": "markdown",
   "metadata": {
    "colab_type": "text",
    "id": "CvYHPABcx_Cc"
   },
   "source": [
    "### <span style=\"color:red\"> Gyakorlat 4: </span> Írjunk egy NumPy programot, amely létrehoz egy 8x8-as mátrixot, és kitölti sakktábla mintázattal.\n",
    "(A sakktábla mintázat olyan váltakozó nullát és egyet tartalmazó minta, ahol minden sor és oszlop felváltva tartalmazza a két értéket.)\n",
    "\n",
    "Sakktábla mintázat:\n",
    "```\n",
    "[[0 1 0 1 0 1 0 1]\n",
    "..........\n",
    "[0 1 0 1 0 1 0 1]\n",
    "[1 0 1 0 1 0 1 0]]\n",
    "```\n",
    "\n",
    "\n"
   ]
  },
  {
   "cell_type": "code",
   "execution_count": 15,
   "metadata": {
    "colab": {},
    "colab_type": "code",
    "id": "xNrhyb4exYbf"
   },
   "outputs": [
    {
     "name": "stdout",
     "output_type": "stream",
     "text": [
      "Sakktábla mintázat:\n",
      "[[0 1 0 1 0 1 0 1]\n",
      " [1 0 1 0 1 0 1 0]\n",
      " [0 1 0 1 0 1 0 1]\n",
      " [1 0 1 0 1 0 1 0]\n",
      " [0 1 0 1 0 1 0 1]\n",
      " [1 0 1 0 1 0 1 0]\n",
      " [0 1 0 1 0 1 0 1]\n",
      " [1 0 1 0 1 0 1 0]]\n"
     ]
    }
   ],
   "source": [
    "# Gyakorlat 4 megoldás\n",
    "x = np.ones((3,3))\n",
    "print(\"Sakktábla mintázat:\")\n",
    "x = np.zeros((8,8),dtype=int)\n",
    "x[1::2,::2] = 1\n",
    "x[::2,1::2] = 1\n",
    "print(x)"
   ]
  },
  {
   "attachments": {},
   "cell_type": "markdown",
   "metadata": {
    "colab_type": "text",
    "id": "1d__PvwdyK48"
   },
   "source": [
    "### <span style=\"color:red\"> Gyakorlat 5: </span> Írjunk egy NumPy programot, amely hozzáfűz további értékeket egy tömb végéhez.\n",
    "\n",
    "Eredeti tömb: \n",
    "'[10, 20, 30]'\n",
    "\n",
    "A további értékek hozzáadását követően:\n",
    "`[10 20 30 40 50 60 70 80 90]`"
   ]
  },
  {
   "cell_type": "code",
   "execution_count": 16,
   "metadata": {
    "colab": {},
    "colab_type": "code",
    "id": "6QEJ2NibyKLN"
   },
   "outputs": [
    {
     "name": "stdout",
     "output_type": "stream",
     "text": [
      "Eredeti tömb:\n",
      "[10, 20, 30]\n",
      "A további értékek hozzáadását követően:\n",
      "[10 20 30 40 50 60 70 80 90]\n"
     ]
    }
   ],
   "source": [
    "# Gyakorlat 5 megoldás\n",
    "x = [10, 20, 30]\n",
    "print(\"Eredeti tömb:\")\n",
    "print(x)\n",
    "x = np.append(x, [[40, 50, 60], [70, 80, 90]])\n",
    "print(\"A további értékek hozzáadását követően:\")\n",
    "print(x)"
   ]
  },
  {
   "attachments": {},
   "cell_type": "markdown",
   "metadata": {
    "colab_type": "text",
    "id": "ftNlXe4EytDi"
   },
   "source": [
    "### <span style=\"color:red\"> Gyakorlat 6: </span> Írjunk egy NumPy programot, amely megtalálja két tömb közös értékeit \n",
    "\n",
    "Array1: '[ 0 10 20 40 60]'\n",
    "\n",
    "Array2: '[10, 30, 40]'\n",
    "\n",
    "A közös értékek:'[10 40]'"
   ]
  },
  {
   "cell_type": "code",
   "execution_count": 17,
   "metadata": {
    "colab": {},
    "colab_type": "code",
    "id": "gz3jIFmEytTU"
   },
   "outputs": [
    {
     "name": "stdout",
     "output_type": "stream",
     "text": [
      "Array1:  [ 0 10 20 40 60]\n",
      "Array2:  [10, 30, 40]\n",
      "A két tömb közös értékei:\n",
      "[10 40]\n"
     ]
    }
   ],
   "source": [
    "# Gyakorlat 6 megoldás\n",
    "array1 = np.array([0, 10, 20, 40, 60])\n",
    "print(\"Array1: \",array1)\n",
    "array2 = [10, 30, 40]\n",
    "print(\"Array2: \",array2)\n",
    "print(\"A két tömb közös értékei:\")\n",
    "print(np.intersect1d(array1, array2))"
   ]
  },
  {
   "attachments": {},
   "cell_type": "markdown",
   "metadata": {
    "colab_type": "text",
    "id": "sfwEs9Jrk187"
   },
   "source": [
    "***\n",
    "\n",
    "# <span style=\"color:brown\"> 4) Feltételes `if` utasítások"
   ]
  },
  {
   "attachments": {},
   "cell_type": "markdown",
   "metadata": {
    "colab_type": "text",
    "id": "Bwd3kLYnk_8Q"
   },
   "source": [
    "A döntési fa lépéseihez hasonlóan, a feltételes utasításokat Pythonban az alábbiak szerint lehet megfogalmazni:\n",
    "\n",
    "if feltétel: utasítás utasítás\n",
    "\n",
    "A feltételes utasításnak logikai értékre (True/False) kell kiértékelődnie. Az alábbi döntési fa így leírható:\n",
    "<img src=\"figures/HF_decision_tree.png\" height=\"400\">"
   ]
  },
  {
   "cell_type": "code",
   "execution_count": 21,
   "metadata": {
    "colab": {},
    "colab_type": "code",
    "id": "TUHkRaXIk_8W"
   },
   "outputs": [
    {
     "name": "stdin",
     "output_type": "stream",
     "text": [
      "Adja meg az LVEF (left ventricular ejection fraction)  értéket:  45\n"
     ]
    },
    {
     "name": "stdout",
     "output_type": "stream",
     "text": [
      "HFmEF (heart failure with mildly reduced ejection fraction)\n"
     ]
    }
   ],
   "source": [
    "LVEF = int(input('Adja meg az LVEF (left ventricular ejection fraction)  értéket: '))\n",
    "\n",
    "if LVEF > 50:\n",
    "    print('HFpEF (heart failure with preserved ejection fraction)')\n",
    "else:\n",
    "    if LVEF < 40:\n",
    "        print('HFrEF (heart failure with reduced ejection fraction)')\n",
    "    else:\n",
    "        print('HFmEF (heart failure with mildly reduced ejection fraction)')"
   ]
  },
  {
   "attachments": {},
   "cell_type": "markdown",
   "metadata": {
    "colab_type": "text",
    "id": "xmDtSalLk_8n"
   },
   "source": [
    "Az összes feltételes utasításforma használható, beleértve az is/and/or utasítások alkalmazását is, például: "
   ]
  },
  {
   "cell_type": "code",
   "execution_count": 19,
   "metadata": {
    "colab": {},
    "colab_type": "code",
    "id": "lS1PVj1Tk_8q"
   },
   "outputs": [
    {
     "name": "stdout",
     "output_type": "stream",
     "text": [
      "futtasd a következő kódrészletet\n"
     ]
    }
   ],
   "source": [
    "a=10\n",
    "b=12\n",
    "\n",
    "if a < 15 and b > 10:\n",
    "    print('futtasd a következő kódrészletet')\n"
   ]
  },
  {
   "attachments": {},
   "cell_type": "markdown",
   "metadata": {
    "colab_type": "text",
    "id": "eRbUrlewk_83"
   },
   "source": [
    "Az \"in\" operátor is használható annak ellenőrzésére, hogy egy adott objektum létezik-e egy listában.\n",
    "A következő kód ellenőrzi, hogy a name változó értéke szerepel-e a [\"John\", \"Dave\"] listában, és ha igen, akkor kiírja, hogy a személy neve vagy \"John\", vagy \"Dave\":"
   ]
  },
  {
   "cell_type": "code",
   "execution_count": 20,
   "metadata": {
    "colab": {},
    "colab_type": "code",
    "id": "IJaa6Y4Ck_8_"
   },
   "outputs": [
    {
     "name": "stdout",
     "output_type": "stream",
     "text": [
      "A személy neve vagy John vagy Dave.\n"
     ]
    }
   ],
   "source": [
    "name = \"John\"\n",
    "if name in [\"John\", \"Dave\"]:\n",
    "    print(\"A személy neve vagy John vagy Dave.\")"
   ]
  },
  {
   "attachments": {},
   "cell_type": "markdown",
   "metadata": {
    "colab_type": "text",
    "id": "Xq-Pkjdwk_9S"
   },
   "source": [
    "Az if utasítások sorozata kombinálható if-else utasításokkal, azaz"
   ]
  },
  {
   "cell_type": "code",
   "execution_count": 22,
   "metadata": {
    "colab": {},
    "colab_type": "code",
    "id": "Krc2PpKFk_9U"
   },
   "outputs": [
    {
     "name": "stdout",
     "output_type": "stream",
     "text": [
      "A személy normál súlyú.\n"
     ]
    }
   ],
   "source": [
    "BMI=20\n",
    "\n",
    "if BMI <= 18.5: \n",
    "    print('A személy alultáplált.')\n",
    "elif BMI > 18.5 and BMI <=25.0:\n",
    "    print('A személy normál súlyú.')\n",
    "elif BMI > 25.0 and BMI <=30.0 :\n",
    "    print('A személy túlsúlyos.')\n",
    "else:\n",
    "    print('A személy elhízott.')\n"
   ]
  },
  {
   "attachments": {},
   "cell_type": "markdown",
   "metadata": {
    "colab_type": "text",
    "id": "hGv2XI_dk_9n"
   },
   "source": [
    "***\n",
    "\n",
    "# <span style=\"color:brown\"> Gyakorlatok:\n",
    "\n",
    "### <span style=\"color:red\"> Gyakorlat 1: </span> Változtassa meg a BMI értékét és figyelje meg a változást\n",
    "\n",
    "### <span style=\"color:red\"> Gyakorlat 2: </span> Próbáljuk meg reprodukálni a döntési fát és próbáljuk megváltoztatni a bemeneti értékeket:\n",
    "\n",
    "<img src=\"figures/IHCA_decision_tree.png\" height=\"400\">\n",
    "\n",
    "Decision tree from *Li, Hong, et al. \"Decision tree model for predicting in‐hospital cardiac arrest among patients admitted with acute coronary syndrome.\" Clinical Cardiology 42.11 (2019): 1087-1093.*"
   ]
  },
  {
   "cell_type": "code",
   "execution_count": 23,
   "metadata": {},
   "outputs": [
    {
     "name": "stdin",
     "output_type": "stream",
     "text": [
      "Please introduce value for ViEWS:  4\n",
      "Please introduce fatal arrhythmia status (yes = 1, no = 0): 1\n",
      "Please introduce diabetes status (yes = 1, no = 0): 1\n",
      "Please introduce Killip class (class І = 1, II = 2, III = 3, IV = 4): 1\n",
      "Please introduce value for blood urea nitrogen (BUN): 34\n",
      "Please introduce value for cardiac troponin I (cTnI): 34\n",
      "Please introduce value for age: 45\n"
     ]
    },
    {
     "name": "stdout",
     "output_type": "stream",
     "text": [
      "Low (<40%)\n"
     ]
    }
   ],
   "source": [
    "#Életfunkciót értékelő pontszám bekérése\n",
    "ViEWS = int(input('Please introduce value for ViEWS: '))\n",
    "#A betegnél előfordult szívritmuszavar (1: igen, 0: nem) bekérése:\n",
    "arrhythmia = int(input('Please introduce fatal arrhythmia status (yes = 1, no = 0):'))\n",
    "#Diabétesz előfordulása (1: igen, 0: nem):\n",
    "diabetes = int(input('Please introduce diabetes status (yes = 1, no = 0):'))\n",
    "#A szívelégtelenség súlyosságát jelző osztály (1–4, ahol 1 a legenyhébb, 4 a legsúlyosabb):\n",
    "Killip = int(input('Please introduce Killip class (class І = 1, II = 2, III = 3, IV = 4):'))\n",
    "#BUN érték:\n",
    "BUN = int(input('Please introduce value for blood urea nitrogen (BUN):'))\n",
    "#Szívspecifikus troponin I érték:\n",
    "cTnI = int(input('Please introduce value for cardiac troponin I (cTnI):'))\n",
    "#A beteg életkora:\n",
    "age = int(input('Please introduce value for age:'))\n",
    "\n",
    "if ViEWS < 5:\n",
    "    if arrhythmia:\n",
    "        if Killip > 2:\n",
    "            if cTnI >= 28:\n",
    "                print('High (70%‐100%)')\n",
    "            else:\n",
    "                if BUN < 7.9:\n",
    "                    print('Moderate (40%‐69%)')\n",
    "                else:\n",
    "                    print('Low (<40%)')  \n",
    "        else:\n",
    "            print('Low (<40%)')\n",
    "\n",
    "    else:\n",
    "        print('Low (<40%)')\n",
    "else:\n",
    "    if diabetes:\n",
    "        print('High (70%‐100%)')\n",
    "    else:\n",
    "        if age < 64:\n",
    "            print('Low (<40%)')\n",
    "        else:\n",
    "            print('Moderate (40%‐69%)')\n"
   ]
  },
  {
   "attachments": {},
   "cell_type": "markdown",
   "metadata": {
    "colab_type": "text",
    "id": "yyVjfv3ck_9o"
   },
   "source": [
    "***\n",
    "\n",
    "# <span style=\"color:brown\"> 5) Ciklusok és függvények\n",
    "\n",
    "## <span style=\"color:brown\"> 5.1) A for utasítás"
   ]
  },
  {
   "attachments": {},
   "cell_type": "markdown",
   "metadata": {
    "colab_type": "text",
    "id": "lIxGunjFk_9r"
   },
   "source": [
    "A for ciklus egy adott sorozat elemein megy végig, és minden egyes elemnél végrehajt egy műveletet. A sorozat lehet például egy lista, egy tartomány (range), egy sztring karakterei vagy más iterálható adatszerkezet."
   ]
  },
  {
   "cell_type": "code",
   "execution_count": 24,
   "metadata": {
    "colab": {},
    "colab_type": "code",
    "id": "YbmJg1eTk_9y"
   },
   "outputs": [
    {
     "name": "stdout",
     "output_type": "stream",
     "text": [
      "10\n",
      "20\n",
      "30\n",
      "40\n",
      "50\n"
     ]
    }
   ],
   "source": [
    "mylist=[10,20,30,40,50]\n",
    "\n",
    "for item in mylist:\n",
    "    print(item)"
   ]
  },
  {
   "attachments": {},
   "cell_type": "markdown",
   "metadata": {
    "colab_type": "text",
    "id": "nEYMRKFFk_-Z"
   },
   "source": [
    "Számtartományokhoz a Python a range(start, end, increment) függvényt biztosítja, amely egy sorozatot hoz létre "
   ]
  },
  {
   "cell_type": "code",
   "execution_count": 25,
   "metadata": {
    "colab": {},
    "colab_type": "code",
    "id": "-M_cVQfBk_-i"
   },
   "outputs": [
    {
     "name": "stdout",
     "output_type": "stream",
     "text": [
      "0\n",
      "2\n",
      "4\n",
      "6\n",
      "8\n"
     ]
    }
   ],
   "source": [
    "for item in range(0,10,2):\n",
    "    print(item)"
   ]
  },
  {
   "attachments": {},
   "cell_type": "markdown",
   "metadata": {
    "colab_type": "text",
    "id": "q-yuy-Z1k_-2"
   },
   "source": [
    "### <span style=\"color:red\"> Gyakorlat: </span> Próbáljuk megváltoztatni a tartományt, adjunk meg különböző lépésközöket, kezdő- és végpontokat.\n"
   ]
  },
  {
   "attachments": {},
   "cell_type": "markdown",
   "metadata": {
    "colab_type": "text",
    "id": "AYaXfaLfl1Xe"
   },
   "source": [
    "Az egymásba ágyazott for ciklusok segítségével, egy for ciklus belsejében egy másik for ciklust helyezünk el. Ez lehetővé teszi, hogy több különböző listán vagy tartományon végezzünk el műveleteket, egymásba ágyazottan."
   ]
  },
  {
   "cell_type": "code",
   "execution_count": 26,
   "metadata": {
    "colab": {},
    "colab_type": "code",
    "id": "EBUIWjv7k_-5"
   },
   "outputs": [
    {
     "name": "stdout",
     "output_type": "stream",
     "text": [
      "A harmadik kódrészlet kimenete; Az új szám  11\n",
      "A harmadik kódrészlet kimenete; Az új szám  12\n",
      "A harmadik kódrészlet kimenete; Az új szám  13\n",
      "A harmadik kódrészlet kimenete; Az új szám  14\n",
      "A harmadik kódrészlet kimenete; Az új szám  15\n",
      "A harmadik kódrészlet kimenete; Az új szám  21\n",
      "A harmadik kódrészlet kimenete; Az új szám  22\n",
      "A harmadik kódrészlet kimenete; Az új szám  23\n",
      "A harmadik kódrészlet kimenete; Az új szám  24\n",
      "A harmadik kódrészlet kimenete; Az új szám  25\n",
      "A harmadik kódrészlet kimenete; Az új szám  31\n",
      "A harmadik kódrészlet kimenete; Az új szám  32\n",
      "A harmadik kódrészlet kimenete; Az új szám  33\n",
      "A harmadik kódrészlet kimenete; Az új szám  34\n",
      "A harmadik kódrészlet kimenete; Az új szám  35\n",
      "A harmadik kódrészlet kimenete; Az új szám  41\n",
      "A harmadik kódrészlet kimenete; Az új szám  42\n",
      "A harmadik kódrészlet kimenete; Az új szám  43\n",
      "A harmadik kódrészlet kimenete; Az új szám  44\n",
      "A harmadik kódrészlet kimenete; Az új szám  45\n"
     ]
    }
   ],
   "source": [
    "# Az első kódrészlet\n",
    "# tizesek\n",
    "elso_lista = [10, 20, 30, 40]  \n",
    "# egyesek\n",
    "masodik_lista = [1, 2, 3, 4, 5]\n",
    "\n",
    "# Az első for ciklus (az elso_lista elemein iterálunk)\n",
    "for tizes in elso_lista:\n",
    "    # A második kódrészlet (egy második for ciklus, ami masodik_lista elemein megy végig)\n",
    "    for egyes in masodik_lista:\n",
    "        # A harmadik kódrészlet (második lista elemein iterálunk)\n",
    "        # Minden egyes 'tizes' értékhez hozzáadjuk az 'egyes' értéket.\n",
    "        uj_szam = tizes + egyes  \n",
    "        # A harmadik kódrészlet kimenete: Az uj_szam kiszámítása.\n",
    "        # Az eredmény kiíratása\n",
    "        print('A harmadik kódrészlet kimenete; Az új szám ', uj_szam)  "
   ]
  },
  {
   "attachments": {},
   "cell_type": "markdown",
   "metadata": {
    "colab_type": "text",
    "id": "087F7EaXk__G"
   },
   "source": [
    "**`enumerate`**\n",
    "\n",
    "Bizonyos esetekben szükség lehet arra, hogy a ciklusban mind a lista elemeit, mind pedig azok indexeit használjuk. Ilyenkor az enumerate függvény használható."
   ]
  },
  {
   "cell_type": "code",
   "execution_count": 27,
   "metadata": {
    "colab": {},
    "colab_type": "code",
    "id": "lC4Xg3X2k__J"
   },
   "outputs": [
    {
     "name": "stdout",
     "output_type": "stream",
     "text": [
      "0 egy\n",
      "1 kettő\n",
      "2 három\n",
      "3 négy\n",
      "4 öt\n"
     ]
    }
   ],
   "source": [
    "lista=['egy','kettő','három','négy','öt']\n",
    "\n",
    "for index,item in enumerate(lista):\n",
    "    print(index,item)"
   ]
  },
  {
   "attachments": {},
   "cell_type": "markdown",
   "metadata": {
    "colab_type": "text",
    "id": "jW_qVqp1lABW"
   },
   "source": [
    "## <span style=\"color:brown\"> 5.2) Függvények"
   ]
  },
  {
   "attachments": {},
   "cell_type": "markdown",
   "metadata": {
    "colab_type": "text",
    "id": "oIFhKk8QlABX"
   },
   "source": [
    "A függvények lehetővé teszik a kód részek tömör strukturálását, amelyek egy programon (vagy akár több programon) belül többször is használatra kerülnek. \n",
    "\n",
    "A Pythonban függvényt a 'def' kulcsszóval definiáljuk:\n",
    "\n",
    "``` \n",
    "def myfunction(arg1, arg2, arg3):  # függvény definíció (opcionális bemeneti argumentumokkal)\n",
    "    \n",
    "    a kód törzse, amelyet többször ismételni kell\n",
    "    \n",
    "    return someval1, someval2 \n",
    "\n",
    "Figyeljük meg a kettőspontot a függvény fejlécében, és a behúzás használatát a függvény törzsén belül. A függvényen belül olyan kódsorok találhatók, amelyeket egyébként többször is ismételni kellene a programban. A függvény ezután visszaadja az eredményeket. Egyszerű függvények esetén a függvény egy sorban is visszaadható, például:"
   ]
  },
  {
   "cell_type": "code",
   "execution_count": 28,
   "metadata": {
    "colab": {},
    "colab_type": "code",
    "id": "OZtqEYJtlABX"
   },
   "outputs": [
    {
     "name": "stdout",
     "output_type": "stream",
     "text": [
      "a 5 és b 10 összege: 15\n"
     ]
    }
   ],
   "source": [
    "# függvény definíció\n",
    "def sum(x, y):\n",
    "    return x + y  # mivel a függvény egyszerű, egy sorban is visszaadható\n",
    "\n",
    "# függvény alkalmazása\n",
    "\n",
    "a = 5\n",
    "b = 10\n",
    "\n",
    "print('a {} és b {} összege: {}'.format(a, b, sum(a, b)))"
   ]
  },
  {
   "attachments": {},
   "cell_type": "markdown",
   "metadata": {
    "colab_type": "text",
    "id": "p30QUX2nlABc"
   },
   "source": [
    "Az opcionális bemeneti argumentumok alapértelmezett értékekkel is megadhatók, például:"
   ]
  },
  {
   "cell_type": "code",
   "execution_count": 29,
   "metadata": {
    "colab": {},
    "colab_type": "code",
    "id": "ZwkKrtvhlABd"
   },
   "outputs": [
    {
     "name": "stdout",
     "output_type": "stream",
     "text": [
      "a 5 és b 10 összege: 15\n",
      "a 5, b 10 és c 20 összege: 35\n"
     ]
    }
   ],
   "source": [
    "# ez a függvény így 2 vagy 3 argumentum összegét is visszaadhatja\n",
    "def sum2(x, y, z=0):\n",
    "    return x + y + z \n",
    "\n",
    "# függvény alkalmazása\n",
    "\n",
    "a = 5\n",
    "b = 10\n",
    "c = 20\n",
    "\n",
    "print('a {} és b {} összege: {}'.format(a, b, sum2(a, b)))\n",
    "print('a {}, b {} és c {} összege: {}'.format(a, b, c, sum2(a, b, c)))"
   ]
  },
  {
   "attachments": {},
   "cell_type": "markdown",
   "metadata": {
    "colab_type": "text",
    "id": "4E-pbo77lABg"
   },
   "source": [
    "Az opcionális argumentumokat úgy is megadhatjuk, hogy pontosan meghatározzuk, melyik argumentumot szeretnénk használni kulcsszavak (keyword) segítségével (az argumentum nevének hivatkozásával a függvényhívás során):"
   ]
  },
  {
   "cell_type": "code",
   "execution_count": 30,
   "metadata": {
    "colab": {},
    "colab_type": "code",
    "id": "KuXq1onmlABg"
   },
   "outputs": [
    {
     "name": "stdout",
     "output_type": "stream",
     "text": [
      "8\n",
      "17\n",
      "37\n"
     ]
    }
   ],
   "source": [
    "def sumsub(x, y, z1=0, z2=0):\n",
    "    return x - y + z1 - z2\n",
    "\n",
    "# a függvény alkalmazása\n",
    "\n",
    "a=5\n",
    "b=10\n",
    "c=20\n",
    "d=30\n",
    "\n",
    "print(sumsub(12,4))\n",
    "print(sumsub(42,15,z2=10))\n",
    "print(sumsub(42,15,z1=20, z2=10))"
   ]
  },
  {
   "attachments": {},
   "cell_type": "markdown",
   "metadata": {
    "colab_type": "text",
    "id": "PTVuI1KOlAB_"
   },
   "source": [
    "***\n",
    "\n",
    "# <span style=\"color:brown\"> Gyakorlatok:ciklusok és függvények"
   ]
  },
  {
   "attachments": {},
   "cell_type": "markdown",
   "metadata": {
    "colab_type": "text",
    "collapsed": true,
    "id": "3n1JW0hwlACA",
    "jupyter": {
     "outputs_hidden": true
    }
   },
   "source": [
    "### <span style=\"color:red\"> Gyakorlat 1: </span> Írjon egy függvényt, amely bemeneti paraméterként a szisztolés és diasztolés vérnyomásértéket kapja, és kiírja, hogy a vizsgált személy melyik kategóriába tartozik az alábbi táblázat alapján.:\n",
    "<img src=\"figures/BloodPressure.png\" height=\"400\">"
   ]
  },
  {
   "cell_type": "code",
   "execution_count": 31,
   "metadata": {
    "colab": {
     "base_uri": "https://localhost:8080/",
     "height": 67
    },
    "colab_type": "code",
    "executionInfo": {
     "elapsed": 9693,
     "status": "ok",
     "timestamp": 1599232038071,
     "user": {
      "displayName": "Esther Puyol",
      "photoUrl": "https://lh3.googleusercontent.com/a-/AOh14GgZ5dwQQaWzw8aJu23hC9vdKeJwPEo4DJHmFmNnPA=s64",
      "userId": "17197960287230661203"
     },
     "user_tz": -60
    },
    "id": "S_D_W5t9lACA",
    "outputId": "2d359bff-e85d-4024-e38d-52d3943d766b"
   },
   "outputs": [
    {
     "name": "stdin",
     "output_type": "stream",
     "text": [
      "Kérem adja meg a szisztolés vérnyomás értékét:  134\n",
      "Kérem adja meg a diasztolés vérnyomás értékét:  98\n"
     ]
    },
    {
     "name": "stdout",
     "output_type": "stream",
     "text": [
      "Write your code here\n"
     ]
    }
   ],
   "source": [
    "# Vérnyomás függvény\n",
    "def blood_pressure(systolic_bp, diastolic_bp):\n",
    "  # itt írjuk meg a kódot \n",
    "  print('Write your code here')\n",
    "\n",
    "systolic_bp = int(input('Kérem adja meg a szisztolés vérnyomás értékét: '))\n",
    "diastolic_bp = int(input('Kérem adja meg a diasztolés vérnyomás értékét: '))\n",
    "blood_pressure(systolic_bp, diastolic_bp)"
   ]
  },
  {
   "cell_type": "code",
   "execution_count": 32,
   "metadata": {},
   "outputs": [
    {
     "name": "stdout",
     "output_type": "stream",
     "text": [
      "High blood pressure, hypertension stage 1\n"
     ]
    }
   ],
   "source": [
    "def blood_pressure(systolic_bp, diastolic_bp):\n",
    "    if (systolic_bp < 120 and diastolic_bp < 80):\n",
    "        print('Normal')\n",
    "    elif (120 < systolic_bp <= 129 and diastolic_bp < 80):\n",
    "        print('Elevated')\n",
    "    elif (130 <= systolic_bp <= 139 or 80 <= diastolic_bp < 89):\n",
    "        print('High blood pressure, hypertension stage 1')\n",
    "    elif (systolic_bp > 180 or diastolic_bp > 120):\n",
    "        print('High blood pressure. Consult your doctor immediately.')\n",
    "    elif (140 <= systolic_bp < 180 or 90 <= diastolic_bp < 120):\n",
    "        print('High blood pressure, hypertension stage 2')\n",
    "\n",
    "blood_pressure(systolic_bp, diastolic_bp)"
   ]
  },
  {
   "attachments": {},
   "cell_type": "markdown",
   "metadata": {
    "colab_type": "text",
    "id": "mynXFRWMlACD"
   },
   "source": [
    "### <span style=\"color:red\"> Gyakorlat 2: </span>  Irjunk egy ciklust, amely 10 beteget minősít a szisztolés és a diasztolés vérnyomás értékek alapján. Használjunk for ciklust"
   ]
  },
  {
   "cell_type": "code",
   "execution_count": 34,
   "metadata": {
    "colab": {},
    "colab_type": "code",
    "id": "w1xJzfyelACE"
   },
   "outputs": [
    {
     "name": "stdout",
     "output_type": "stream",
     "text": [
      "Subject 0 -> Systolic bp = 169 and diastolic bp = 96\n",
      "High blood pressure, hypertension stage 2\n",
      "Subject 1 -> Systolic bp = 132 and diastolic bp = 84\n",
      "High blood pressure, hypertension stage 1\n",
      "Subject 2 -> Systolic bp = 170 and diastolic bp = 79\n",
      "High blood pressure, hypertension stage 2\n",
      "Subject 3 -> Systolic bp = 131 and diastolic bp = 97\n",
      "High blood pressure, hypertension stage 1\n",
      "Subject 4 -> Systolic bp = 101 and diastolic bp = 90\n",
      "High blood pressure, hypertension stage 2\n",
      "Subject 5 -> Systolic bp = 187 and diastolic bp = 126\n",
      "High blood pressure. Consult your doctor immediately.\n",
      "Subject 6 -> Systolic bp = 133 and diastolic bp = 73\n",
      "High blood pressure, hypertension stage 1\n",
      "Subject 7 -> Systolic bp = 137 and diastolic bp = 89\n",
      "High blood pressure, hypertension stage 1\n",
      "Subject 8 -> Systolic bp = 139 and diastolic bp = 129\n",
      "High blood pressure, hypertension stage 1\n",
      "Subject 9 -> Systolic bp = 191 and diastolic bp = 94\n",
      "High blood pressure. Consult your doctor immediately.\n"
     ]
    }
   ],
   "source": [
    "# 10 ismétlés a 10 beteg kiértékeléséhez:\n",
    "for i in np.arange(10):\n",
    "    #szisztolés vérnyomás generálása 90 és 200 Hgmm között\n",
    "    systolic_bp = random.randint(90, 200)\n",
    "    #diasztolés vérnyomás generálása 60 és 130 Hgmm között\n",
    "    diastolic_bp = random.randint(60, 130)\n",
    "    #Kiírjuk az aktuális beteg szisztolés és diasztolés vérnyomását\n",
    "    print('Subject {} -> Systolic bp = {} and diastolic bp = {}'.format(i, systolic_bp, diastolic_bp))\n",
    "    #Meghívjuk a blood_pressure függvényt, amely kategorizálja a vérnyomást\n",
    "    blood_pressure(systolic_bp, diastolic_bp)"
   ]
  },
  {
   "cell_type": "code",
   "execution_count": null,
   "metadata": {},
   "outputs": [],
   "source": []
  }
 ],
 "metadata": {
  "colab": {
   "name": "IntroPython.ipynb",
   "provenance": []
  },
  "kernelspec": {
   "display_name": "Python 3 (ipykernel)",
   "language": "python",
   "name": "python3"
  },
  "language_info": {
   "codemirror_mode": {
    "name": "ipython",
    "version": 3
   },
   "file_extension": ".py",
   "mimetype": "text/x-python",
   "name": "python",
   "nbconvert_exporter": "python",
   "pygments_lexer": "ipython3",
   "version": "3.13.2"
  }
 },
 "nbformat": 4,
 "nbformat_minor": 4
}
