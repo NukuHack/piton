{
 "cells": [
  {
   "cell_type": "code",
   "execution_count": 1,
   "id": "b3dc496e-63d4-4624-9233-8eac63783f98",
   "metadata": {},
   "outputs": [],
   "source": [
    "import numpy as np\n",
    "import random"
   ]
  },
  {
   "cell_type": "code",
   "execution_count": 2,
   "id": "3006dd4a-7109-48b0-98d8-8bdd1b3729a1",
   "metadata": {},
   "outputs": [
    {
     "name": "stdout",
     "output_type": "stream",
     "text": [
      "Belépés a második kódblokkba\n",
      "A harmadik kódblokk eredménye; Az új szám: 11\n",
      "A harmadik kódblokk eredménye; Az új szám: 12\n",
      "A harmadik kódblokk eredménye; Az új szám: 13\n",
      "A harmadik kódblokk eredménye; Az új szám: 14\n",
      "A harmadik kódblokk eredménye; Az új szám: 15\n",
      "Belépés a második kódblokkba\n",
      "A harmadik kódblokk eredménye; Az új szám: 21\n",
      "A harmadik kódblokk eredménye; Az új szám: 22\n",
      "A harmadik kódblokk eredménye; Az új szám: 23\n",
      "A harmadik kódblokk eredménye; Az új szám: 24\n",
      "A harmadik kódblokk eredménye; Az új szám: 25\n",
      "Belépés a második kódblokkba\n",
      "A harmadik kódblokk eredménye; Az új szám: 31\n",
      "A harmadik kódblokk eredménye; Az új szám: 32\n",
      "A harmadik kódblokk eredménye; Az új szám: 33\n",
      "A harmadik kódblokk eredménye; Az új szám: 34\n",
      "A harmadik kódblokk eredménye; Az új szám: 35\n",
      "Belépés a második kódblokkba\n",
      "A harmadik kódblokk eredménye; Az új szám: 41\n",
      "A harmadik kódblokk eredménye; Az új szám: 42\n",
      "A harmadik kódblokk eredménye; Az új szám: 43\n",
      "A harmadik kódblokk eredménye; Az új szám: 44\n",
      "A harmadik kódblokk eredménye; Az új szám: 45\n"
     ]
    }
   ],
   "source": [
    "#az első kódblokk, amely két listát definiál\n",
    "elso_lista=[10,20,30,40]\n",
    "masodik_lista=[1,2,3,4,5]\n",
    "\n",
    "for tizes in elso_lista:\n",
    "    #a második kódblokk (végigmegy az elso_lista elemein)\n",
    "    print('Belépés a második kódblokkba') \n",
    "    for egyes in masodik_lista:\n",
    "        #minden tizes esetében végigmegy a masodik_lista elemein)\n",
    "        uj_szam=tizes+egyes\n",
    "        print('A harmadik kódblokk eredménye; Az új szám:', uj_szam)\n"
   ]
  },
  {
   "cell_type": "code",
   "execution_count": 3,
   "id": "0b7a1574-fb92-4f59-a759-c669943120ec",
   "metadata": {},
   "outputs": [
    {
     "name": "stdout",
     "output_type": "stream",
     "text": [
      "egy kettő\n",
      "1 2\n",
      "Pi= 3.14159\n",
      "Pi=     3.14\n"
     ]
    }
   ],
   "source": [
    "# Példák a print függvény kimenetének többféle formázására\n",
    "print('{} {}'.format('egy', 'kettő'))\n",
    "print('{} {}'.format(1,2))\n",
    "print('Pi= {}'.format(3.14159))\n",
    "print('Pi= {0:8.2f}'.format(3.14159))"
   ]
  },
  {
   "cell_type": "code",
   "execution_count": 4,
   "id": "0de0666c-a074-48ed-9493-c9417a7a719d",
   "metadata": {},
   "outputs": [
    {
     "name": "stdout",
     "output_type": "stream",
     "text": [
      "example integer is  9\n",
      "example integer is  9.3\n",
      "casting an integer as a float results in 9.0\n",
      "example booleans are  True  and  False\n",
      "hello world\n",
      "hello world\n",
      "testing if string1 and string2 are equal: True\n",
      "Hello\n",
      "HELLO\n",
      "  hello\n",
      " hello \n",
      "he(ell)(ell)o\n",
      "world\n"
     ]
    }
   ],
   "source": [
    "# egész érték változóhoz rendelése:\n",
    "myint = 9\n",
    "print('example integer is ', myint)\n",
    "\n",
    "# lebegőpontos érték hozzárendelése:\n",
    "myfloat1=9.3\n",
    "myfloat2=float(9)\n",
    "print('example integer is ', myfloat1)\n",
    "print('casting an integer as a float results in', myfloat2)\n",
    "\n",
    "# Logikai változók deklarálása:\n",
    "mybool1 = True\n",
    "mybool2 = False\n",
    "print('example booleans are ', mybool1, ' and ', mybool2)\n",
    "\n",
    "# A szövegek egyszeres vagy dupla idézőjellel definiálhatók: \n",
    "string1=\"hello world\"\n",
    "string2='hello world'\n",
    "print (string1)\n",
    "print(string2)\n",
    "print('testing if string1 and string2 are equal:', string1==string2)\n",
    "\n",
    "# Példák a szövegeken alkalmazható függvényekre:\n",
    "s = \"hello\"\n",
    "# A string első karakterét nagybetűssé alakítja, a többit kicsivé.\n",
    "print(s.capitalize())  \n",
    "# A teljes stringet nagybetűssé alakítja.\n",
    "print(s.upper())    \n",
    "# A szöveget jobbra igazítja, és 7 karakter hosszúságúra bővíti úgy, hogy a bal oldalon szóközöket ad hozzá.   \n",
    "print(s.rjust(7))  \n",
    "# A szöveget középre igazítja, és 7 karakter hosszúságúra bővíti úgy, hogy szóközöket ad hozzá mindkét oldalán.   \n",
    "print(s.center(7))     \n",
    " # Minden 'l' karaktert '(ell)'-re cserél.\n",
    "print(s.replace('l', '(ell)')) \n",
    "# Eltávolítja a vezető és záró szóközöket a stringből.\n",
    "print('  world '.strip())\n"
   ]
  },
  {
   "cell_type": "code",
   "execution_count": null,
   "id": "648adb3d-d018-49e5-aa19-f07332240d9e",
   "metadata": {},
   "outputs": [],
   "source": [
    "# Egyszerű matematikai műveletek példái:\n",
    "print('összeadás:', 2+3)\n",
    "print('kivonás:', 2-3)\n",
    "print('szorzás:', 2*3)\n",
    "print('osztás:', 2/3)\n",
    "# A maradék operátor ('%') az osztás utáni egész szám maradékát adja vissza::\n",
    "a=9\n",
    "b=5\n",
    "print('the remainder following division of {} by {} is {}'.format(a, b, a%b))\n",
    "# A '*' kétszeri használata ('**') hatványozást eredményez\n",
    "a=2\n",
    "b=4\n",
    "print('{} to the power {} is {}'.format(a, b, a**b))"
   ]
  },
  {
   "cell_type": "code",
   "execution_count": 5,
   "id": "d6f27029-65a1-4f79-9709-11e14874ee28",
   "metadata": {},
   "outputs": [
    {
     "name": "stdout",
     "output_type": "stream",
     "text": [
      "True\n",
      "True\n",
      "False\n",
      "False\n",
      "True\n",
      "True\n",
      "True\n"
     ]
    }
   ],
   "source": [
    "a=10\n",
    "print(a==10)\n",
    "print(a<12)\n",
    "print(a>20)\n",
    "\n",
    "# Két feltételes kifejezés egyidejű értékelése 'and', 'or' és 'is' operátorokkal\n",
    "a=10\n",
    "b=12\n",
    "print(a is b)\n",
    "print(a< 15 and b > 10)\n",
    "print (a < 15 or b < 10)\n",
    "\n",
    "# A \"not\" operátor a logikai kifejezés negálására szolgál:\n",
    "print(not a is b)"
   ]
  },
  {
   "cell_type": "code",
   "execution_count": 6,
   "id": "7850ae09-0581-4abf-a5a0-32c1860c3f94",
   "metadata": {},
   "outputs": [
    {
     "name": "stdout",
     "output_type": "stream",
     "text": [
      "Hello World\n",
      "a=8 and b=7\n",
      "hello world\n",
      "Hello World\n",
      "Hello World 8\n",
      "Hello World 8\n",
      "Hello World 8\n"
     ]
    }
   ],
   "source": [
    "# Megoldások\n",
    "\n",
    "# Q1. Definiáljunk változókat és írjuk ki őket\n",
    "a=8 \n",
    "b=7\n",
    "teststr='Hello World'\n",
    "print(teststr)\n",
    "print(\"a={} and b={}\" .format(a, b))\n",
    "\n",
    "\n",
    "# Q2. Gyakoroljuk a print utasításokat pl. print('hello world')\n",
    "print('hello world')\n",
    "\n",
    "# Q3. Próbáljuk ki a teststr változó kiíratását (mi történik, ha dupla idézőjeleket használunk?)\n",
    "teststr=\"Hello World\"\n",
    "print(teststr)\n",
    "\n",
    "# Q4. Próbáljuk meg hozzáadni az 'a' változót a 'teststr' változóhoz egy print utasításban\n",
    "print('{} {}'.format(teststr,a))\n",
    "print(teststr +' '+ str(a))\n",
    "print(f\"{teststr} {a}\")"
   ]
  },
  {
   "cell_type": "code",
   "execution_count": 7,
   "id": "d913f7a5-b1b7-4288-895c-c3708c148306",
   "metadata": {},
   "outputs": [
    {
     "name": "stdout",
     "output_type": "stream",
     "text": [
      " a+b = 15\n",
      " a-b = 1\n",
      " a*b = 56\n",
      " a/b = 1.14\n",
      " a*a+b - a/b = 69.86\n",
      " a*(a+b - a/b) =  110.86\n",
      " (a*a+b - a)/b =  9.00\n"
     ]
    }
   ],
   "source": [
    "# Gyakorlat 2 megoldások\n",
    "\n",
    "# Q1. Próbáljunk ki egyszerű matematikai műveleteket, írjuk ki az eredményt:\n",
    "a=8 \n",
    "b=7\n",
    "\n",
    "print(' a+b = {}'.format(a+b))\n",
    "print(' a-b = {}'.format(a-b))\n",
    "print(' a*b = {}'.format(a*b))\n",
    "print(' a/b = {:.2f}'.format(a/b))\n",
    "\n",
    "# Q2. Matematikai operátorok kombinációja, próbáljuk kombinálni a matematikai operátorokat pl. a*a+b - a/b \n",
    "print(' a*a+b - a/b = {:.2f}' . format(a*a+b-a/b))\n",
    "\n",
    "# Q3 Mi történik a zárójelek hozzáadásával pl. a*(a+b - a/b) vagy (a*a+b - a)/b\n",
    "print(' a*(a+b - a/b) =  {:.2f}' . format(a*(a+b - a/b)))\n",
    "print(' (a*a+b - a)/b =  {:.2f}' .format((a*a+b -a)/b))"
   ]
  },
  {
   "cell_type": "code",
   "execution_count": 8,
   "id": "a393daa4-d9ab-4135-98d5-c67bd82fb3be",
   "metadata": {},
   "outputs": [
    {
     "name": "stdout",
     "output_type": "stream",
     "text": [
      "a==b\n",
      "2*a==b\n",
      "a>b\n",
      "a<b\n",
      "a is b\n",
      "2*a is b\n"
     ]
    }
   ],
   "source": [
    "# Gyakorlat 3 megoldások\n",
    "\n",
    "# Q1. Változók definiálása \n",
    "\n",
    "a=5\n",
    "b=10\n",
    "teststr1='Hello'\n",
    "teststr2='World'\n",
    "\n",
    "# Q2 Értékeljük az alábbi feltételes állításokat\n",
    "print('a==b',a==b)\n",
    "print('2*a==b',2*a==b)\n",
    "print('a>b',a>b)\n",
    "print('a<b',a<b)\n",
    "print('a is b',a is b)\n",
    "print('2*a is b',2*a is b)\n",
    "\n",
    "# Q3. Kombináljuk a feltételeket and/or operátorokkal és írjuk ki az eredményt. Például: 'a == b or b> a' \n",
    "print(a==b or b>a)\n",
    "\n",
    "# Q4. Próbáljuk meg az állítások inverzét a not operátorral\n",
    "print(not(a==b or b>a))"
   ]
  },
  {
   "cell_type": "code",
   "execution_count": 9,
   "id": "7913fc2d-3212-46a7-96c5-9fc495dcd79f",
   "metadata": {},
   "outputs": [],
   "source": [
    "emptylist=[] # Üres lista\n",
    "integerlist=[1,2,3,4,5,6] #Egész számokat tartalmazó lista\n",
    "stringlist=['string1', 'string2', 'string3'] #Szövegeket tartalmazó lista\n",
    "mixedlist=[10, \"some string\", 4.2, 2, 'some other string'] #Vegyes típusú adatokat tartalmazó lista\n",
    "# beágyazott lista\n",
    "nestedlist=[['dog','cat','pig'], [1,2,3 ,4], [10, \"some string\", 4.2, 2, 'some other string'] ]"
   ]
  },
  {
   "cell_type": "code",
   "execution_count": 10,
   "id": "2048d23d-4216-4a7a-915f-4ccafa6dea73",
   "metadata": {},
   "outputs": [
    {
     "name": "stdout",
     "output_type": "stream",
     "text": [
      "a harmadik elem az egész számok listájában 3\n",
      "a negyedik elem a vegyes lista elemei között 2\n",
      "a hetedik elem a szövegben W\n",
      "a középső két elem az egész számok listájában [3, 4]\n",
      "a kezdetektől a 4. elemig [1, 2, 3, 4]\n",
      "a 4. elemtől a végéig [4, 5, 6]\n",
      "a 4. elemtől egy elemmel a vég előtt [4, 5]\n",
      "fordított indexálás [6, 5, 4, 3, 2, 1]\n",
      "minden második elem [1, 3, 5]\n"
     ]
    }
   ],
   "source": [
    "teststr = 'Hello World'\n",
    "print('a harmadik elem az egész számok listájában', integerlist[2])\n",
    "print('a negyedik elem a vegyes lista elemei között', mixedlist[3])\n",
    "print('a hetedik elem a szövegben', teststr[6])\n",
    "\n",
    "# figyeljük meg, hogy a szeletelés az összes elemet tartalmazza a megadott indexig, de a záró indexet nem\n",
    "print('a középső két elem az egész számok listájában', integerlist[2:4])\n",
    "# szeletelés a kezdetektől az 5. elemig\n",
    "print('a kezdetektől a 4. elemig', integerlist[:4])\n",
    "# szeletelés a 4. elemtől a végéig\n",
    "print('a 4. elemtől a végéig', integerlist[3:])\n",
    "# szeletelés a 4. elemtől egy elemmel a vég előtt\n",
    "print('a 4. elemtől egy elemmel a vég előtt', integerlist[3:-1])\n",
    "# Az indexálás fordítva is elvégezhető:\n",
    "print('fordított indexálás', integerlist[::-1])\n",
    "# vagy nagyobb lépések használatával:\n",
    "print('minden második elem', integerlist[::2])"
   ]
  },
  {
   "cell_type": "code",
   "execution_count": 11,
   "id": "31a85203-f30c-485a-92b4-e4cbf6b041d2",
   "metadata": {},
   "outputs": [
    {
     "name": "stdout",
     "output_type": "stream",
     "text": [
      "az új egész számok listája [1, 2, 3, 4, 5, 6, 7]\n"
     ]
    }
   ],
   "source": [
    "integerlist.append(7)\n",
    "print('az új egész számok listája', integerlist)\n",
    "print('az új egész számok lista hossza', len(integerlist))\n",
    "print('a teststr hosszúsága', len(teststr))\n",
    "print(integerlist+stringlist)\n",
    "integerlist[3] = 'kicserélt elem'\n",
    "print(integerlist)"
   ]
  },
  {
   "cell_type": "code",
   "execution_count": 12,
   "id": "b8280a80-45a1-4fb6-9886-ce99f76a94b1",
   "metadata": {},
   "outputs": [
    {
     "name": "stdout",
     "output_type": "stream",
     "text": [
      "1 2 4\n",
      "5\n",
      "[2, 3]\n"
     ]
    }
   ],
   "source": [
    "# Gyakorlat 1 megoldás.\n",
    "\n",
    "mylist=[1,2,3,4,5]\n",
    "\n",
    "# index alapján irassuk ki a mylist elemeit \n",
    "\n",
    "print(mylist[0],mylist[1],mylist[3])\n",
    "\n",
    "# index alapján írjuk ki a lista utolsó elemét\n",
    "\n",
    "print(mylist[-1])\n",
    "\n",
    "# index segítségével irassuk ki a lista egy szeletét\n",
    "\n",
    "print(mylist[1:3])\n",
    "\n",
    "# adjunk a listához egy új elemet\n",
    "\n",
    "mylist.append(43110)"
   ]
  },
  {
   "cell_type": "code",
   "execution_count": 13,
   "id": "410dbb88-ddca-4ca4-b163-acb895d3efb8",
   "metadata": {},
   "outputs": [
    {
     "name": "stdout",
     "output_type": "stream",
     "text": [
      "HelloWorld\n",
      "['Hello', 'World', \"I'm\", 'ready', 'toPython']\n",
      "HelloHelloHelloHelloHelloHelloHelloHelloHelloHello\n"
     ]
    }
   ],
   "source": [
    "# Gyakorlat 2 megoldás\n",
    "\n",
    "string1='Hello'\n",
    "string2='World'\n",
    "list1=['Hello', 'World']\n",
    "list2=[\"I'm\", 'ready', 'to' 'Python']\n",
    "\n",
    "# Q1 Két sztring és két lista összefűzése\n",
    "\n",
    "print(string1+string2)\n",
    "print(list1+list2)\n",
    "\n",
    "# Q2  10 másolat összefűzése\n",
    "\n",
    "print(string1*10)"
   ]
  },
  {
   "cell_type": "code",
   "execution_count": 15,
   "id": "1a8d81e6-96bb-4d0c-aded-ad7469032a80",
   "metadata": {},
   "outputs": [],
   "source": [
    "current_thing = \"NUMPY\""
   ]
  },
  {
   "cell_type": "code",
   "execution_count": 16,
   "id": "91f8dcfd-69e7-4592-9380-e4b1d8a81e61",
   "metadata": {},
   "outputs": [
    {
     "name": "stdout",
     "output_type": "stream",
     "text": [
      "<class 'numpy.ndarray'>\n",
      "(3,)\n",
      "1 2 3\n",
      "[5 2 3]\n",
      "(2, 3)\n",
      "1 2 4\n"
     ]
    }
   ],
   "source": [
    "# Létrehozunk egy 1D tömböt\n",
    "a = np.array([1, 2, 3])   \n",
    "print(type(a))            \n",
    "print(a.shape)            \n",
    "print(a[0], a[1], a[2])   \n",
    "# Módosítjuk a tömb egy elemét\n",
    "a[0] = 5                  \n",
    "print(a)                 \n",
    "# Hozzunk létre egy 2D tömböt\n",
    "b = np.array([[1,2,3],[4,5,6]])    \n",
    "print(b.shape)                     \n",
    "print(b[0, 0], b[0, 1], b[1, 0])   "
   ]
  },
  {
   "cell_type": "code",
   "execution_count": 17,
   "id": "1b90b3ea-6759-41b8-b9db-a68071bb183d",
   "metadata": {},
   "outputs": [
    {
     "name": "stdout",
     "output_type": "stream",
     "text": [
      "[[0. 0.]\n",
      " [0. 0.]]\n",
      "[[1. 1.]]\n",
      "[[7 7]\n",
      " [7 7]]\n",
      "[[1. 0.]\n",
      " [0. 1.]]\n",
      "[[0.22004624 0.50159758]\n",
      " [0.35178781 0.32351778]]\n"
     ]
    }
   ],
   "source": [
    "# Hozzunk létre egy 2x2-es tömböt, amelynek minden eleme 0\n",
    "a = np.zeros((2,2))   \n",
    "print(a)             \n",
    "\n",
    "# Hozzunk létre egy 1x2-es tömböt, amelynek minden eleme 1\n",
    "b = np.ones((1,2))    \n",
    "print(b)              \n",
    "\n",
    "# Hozzunk létre egy 2x2-es konstans tömböt, ahol minden elem 7\n",
    "c = np.full((2,2), 7)  \n",
    "print(c)              \n",
    "\n",
    "# Hozzunk létre egy 2x2-es egység mátrixot. A 2x2-es egység mátrix egy négyzetes mátrix, amelynek minden átlón kívüli eleme 0, míg az átlójában lévő elemek mind 1-esek.\n",
    "d = np.eye(2)         \n",
    "print(d)              \n",
    "\n",
    "# Hozzunk létre egy 2x2-es tömböt, amelyet véletlenszerű értékek töltenek ki\n",
    "e = np.random.random((2,2))  \n",
    "print(e)      "
   ]
  },
  {
   "cell_type": "code",
   "execution_count": 18,
   "id": "13d6d46c-02d6-46e9-a717-d17687efbcde",
   "metadata": {},
   "outputs": [
    {
     "name": "stdout",
     "output_type": "stream",
     "text": [
      "[[ 1  2  3  4]\n",
      " [ 5  6  7  8]\n",
      " [ 9 10 11 12]]\n",
      "[[2 3]\n",
      " [6 7]]\n",
      "2\n",
      "77\n"
     ]
    }
   ],
   "source": [
    "# Hozzunk létre egy 2D tömböt (3, 4) alakzattal\n",
    "# [[ 1  2  3  4]\n",
    "#  [ 5  6  7  8]\n",
    "#  [ 9 10 11 12]]\n",
    "a = np.array([[1, 2, 3, 4], [5, 6, 7, 8], [9, 10, 11, 12]])\n",
    "print(a)\n",
    "\n",
    "# Használjunk szeletelést a tömb első 2 sorának és 1-2. oszlopának kiválasztására\n",
    "b = a[:2, 1:3]\n",
    "print(b)\n",
    "\n",
    "# Figyeljük meg, hogy a szeletelés egy módja annak, hogy megtekintsük a tömb adatait,\n",
    "# és ez azt jelenti, hogy a két objektum adatai megosztottak. Ezért ha módosítjuk a 'b'-t,\n",
    "# akkor az eredeti tömb is módosulni fog.\n",
    "print(a[0, 1])   # Eredetileg: 2\n",
    "b[0, 0] = 77     # Módosítjuk a 'b' első elemét\n",
    "print(a[0, 1])   # Az eredeti tömb is módosult: 77"
   ]
  },
  {
   "cell_type": "code",
   "execution_count": 19,
   "id": "5afb2bb9-0b74-488f-8fc4-d65810d3db29",
   "metadata": {},
   "outputs": [
    {
     "name": "stdout",
     "output_type": "stream",
     "text": [
      "[5 6 7 8] (4,)\n",
      "[[5 6 7 8]] (1, 4)\n",
      "[ 2  6 10] (3,)\n",
      "[[ 2]\n",
      " [ 6]\n",
      " [10]] (3, 1)\n"
     ]
    }
   ],
   "source": [
    "# Hozzuk létre a következő, (3, 4) alakú, 2D tömböt\n",
    "# [[ 1  2  3  4]\n",
    "#  [ 5  6  7  8]\n",
    "#  [ 9 10 11 12]]\n",
    "a = np.array([[1,2,3,4], [5,6,7,8], [9,10,11,12]])\n",
    "\n",
    "# Ha a második sort szeretnénk kiválasztani, annak két módja van.\n",
    "# Ha egy sorhoz/oszlophoz egész számokkal indexelve férünk hozzá (a[1, :] vagy a[:, 1]), 1D tömböt kapunk.\n",
    "# Ha szeleteléssel (a[1:2, :] vagy a[:, 1:2]), 2D tömböt kapunk, amely megőrzi az eredeti dimenziókat.\n",
    "row_r1 = a[1, :]    # Az 'a' második sorának 1D nézete\n",
    "row_r2 = a[1:2, :]  # Az 'a' második sorának 2D nézete\n",
    "print(row_r1, row_r1.shape)  \n",
    "print(row_r2, row_r2.shape)  \n",
    "\n",
    "# Ugyanez vonatkozik a tömb oszlopainak elérésére is:\n",
    "col_r1 = a[:, 1]\n",
    "col_r2 = a[:, 1:2]\n",
    "print(col_r1, col_r1.shape)  \n",
    "print(col_r2, col_r2.shape)  "
   ]
  },
  {
   "cell_type": "code",
   "execution_count": 20,
   "id": "92f4e5d6-bc7e-4c73-912e-dcc952d7279b",
   "metadata": {},
   "outputs": [
    {
     "name": "stdout",
     "output_type": "stream",
     "text": [
      "[[False False]\n",
      " [ True  True]\n",
      " [ True  True]]\n",
      "[3 4 5 6]\n",
      "[3 4 5 6]\n"
     ]
    }
   ],
   "source": [
    "a = np.array([[1,2], [3, 4], [5, 6]])\n",
    "\n",
    "# Keressük meg azokat az elemeket az 'a' tömbben, amelyek nagyobbak, mint 2.\n",
    "# Ez egy olyan NumPy tömböt ad vissza, amely Booleán értékeket tartalmaz, és ugyanolyan alakú, mint 'a'.\n",
    "# A bool_idx jelzi azt, hogy az adott elem nagyobb-e, mint 2.\n",
    "bool_idx = (a > 2)   \n",
    "\n",
    "print(bool_idx)     \n",
    "\n",
    "# Boolean tömb indexelést használunk egy 1D tömb létrehozásához,\n",
    "# amely csak azokat az elemeket tartalmazza, ahol a bool_idx értéke True.\n",
    "print(a[bool_idx])  \n",
    "\n",
    "# A fenti műveletet egyetlen rövid utasítással is végrehajtható:\n",
    "print(a[a > 2]) "
   ]
  },
  {
   "cell_type": "code",
   "execution_count": 21,
   "id": "b7eb91bc-4b69-418f-a3d4-f38ebd867d85",
   "metadata": {},
   "outputs": [
    {
     "name": "stdout",
     "output_type": "stream",
     "text": [
      "Eredeti lista: [12.23, 13.32, 100, 36.32]\n",
      "Egydimenziós NumPy tömb:  [ 12.23  13.32 100.    36.32]\n"
     ]
    }
   ],
   "source": [
    "# Gyakorlat 1 megoldás\n",
    "l = [12.23, 13.32, 100, 36.32]\n",
    "print(\"Eredeti lista:\",l)\n",
    "a = np.array(l)\n",
    "print(\"Egydimenziós NumPy tömb: \",a)"
   ]
  },
  {
   "cell_type": "code",
   "execution_count": 22,
   "id": "6ab7a409-0382-4dba-b315-2062dbc0635f",
   "metadata": {},
   "outputs": [
    {
     "name": "stdout",
     "output_type": "stream",
     "text": [
      "[0. 0. 0. 0. 0. 0. 0. 0. 0. 0.]\n",
      "A hetedik elem értékének frissítése 11-re\n",
      "[ 0.  0.  0.  0.  0.  0. 11.  0.  0.  0.]\n"
     ]
    }
   ],
   "source": [
    "# Gyakorlat 2 megoldás\n",
    "x = np.zeros(10)\n",
    "print(x)\n",
    "print(\"A hetedik elem értékének frissítése 11-re\")\n",
    "x[6] = 11\n",
    "print(x)"
   ]
  },
  {
   "cell_type": "code",
   "execution_count": 23,
   "id": "ab3f8657-00ae-44d0-b2d4-dbc931d72b43",
   "metadata": {},
   "outputs": [
    {
     "name": "stdout",
     "output_type": "stream",
     "text": [
      "[[ 2  3  4]\n",
      " [ 5  6  7]\n",
      " [ 8  9 10]]\n"
     ]
    }
   ],
   "source": [
    "# Gyakorlat 3 megoldás\n",
    "x =  np.arange(2, 11).reshape(3,3)\n",
    "print(x)"
   ]
  },
  {
   "cell_type": "code",
   "execution_count": 24,
   "id": "10141f0f-1284-4a1d-8429-290e4959bff5",
   "metadata": {},
   "outputs": [
    {
     "name": "stdout",
     "output_type": "stream",
     "text": [
      "Sakktábla mintázat:\n",
      "[[0 1 0 1 0 1 0 1]\n",
      " [1 0 1 0 1 0 1 0]\n",
      " [0 1 0 1 0 1 0 1]\n",
      " [1 0 1 0 1 0 1 0]\n",
      " [0 1 0 1 0 1 0 1]\n",
      " [1 0 1 0 1 0 1 0]\n",
      " [0 1 0 1 0 1 0 1]\n",
      " [1 0 1 0 1 0 1 0]]\n"
     ]
    }
   ],
   "source": [
    "# Gyakorlat 4 megoldás\n",
    "x = np.ones((3,3))\n",
    "print(\"Sakktábla mintázat:\")\n",
    "x = np.zeros((8,8),dtype=int)\n",
    "x[1::2,::2] = 1\n",
    "x[::2,1::2] = 1\n",
    "print(x)"
   ]
  },
  {
   "cell_type": "code",
   "execution_count": 25,
   "id": "b153a94a-e2a9-4010-a304-b7b2439bca93",
   "metadata": {},
   "outputs": [
    {
     "name": "stdout",
     "output_type": "stream",
     "text": [
      "Eredeti tömb:\n",
      "[10, 20, 30]\n",
      "A további értékek hozzáadását követően:\n",
      "[10 20 30 40 50 60 70 80 90]\n"
     ]
    }
   ],
   "source": [
    "# Gyakorlat 5 megoldás\n",
    "x = [10, 20, 30]\n",
    "print(\"Eredeti tömb:\")\n",
    "print(x)\n",
    "x = np.append(x, [[40, 50, 60], [70, 80, 90]])\n",
    "print(\"A további értékek hozzáadását követően:\")\n",
    "print(x)"
   ]
  },
  {
   "cell_type": "code",
   "execution_count": 26,
   "id": "26467104-6775-416b-9a8d-89d126d824a6",
   "metadata": {},
   "outputs": [
    {
     "name": "stdout",
     "output_type": "stream",
     "text": [
      "Array1:  [ 0 10 20 40 60]\n",
      "Array2:  [10, 30, 40]\n",
      "A két tömb közös értékei:\n",
      "[10 40]\n"
     ]
    }
   ],
   "source": [
    "# Gyakorlat 6 megoldás\n",
    "array1 = np.array([0, 10, 20, 40, 60])\n",
    "print(\"Array1: \",array1)\n",
    "array2 = [10, 30, 40]\n",
    "print(\"Array2: \",array2)\n",
    "print(\"A két tömb közös értékei:\")\n",
    "print(np.intersect1d(array1, array2))"
   ]
  },
  {
   "cell_type": "code",
   "execution_count": 27,
   "id": "e15694c7-40e2-448c-9c08-9f5892aaa13a",
   "metadata": {},
   "outputs": [
    {
     "name": "stdin",
     "output_type": "stream",
     "text": [
      "Adja meg az LVEF (left ventricular ejection fraction)  értéket:  10\n"
     ]
    },
    {
     "name": "stdout",
     "output_type": "stream",
     "text": [
      "HFrEF (heart failure with reduced ejection fraction)\n"
     ]
    }
   ],
   "source": [
    "\n",
    "LVEF = int(input('Adja meg az LVEF (left ventricular ejection fraction)  értéket: '))\n",
    "\n",
    "if LVEF > 50:\n",
    "    print('HFpEF (heart failure with preserved ejection fraction)')\n",
    "else:\n",
    "    if LVEF < 40:\n",
    "        print('HFrEF (heart failure with reduced ejection fraction)')\n",
    "    else:\n",
    "        print('HFmEF (heart failure with mildly reduced ejection fraction)')"
   ]
  },
  {
   "cell_type": "code",
   "execution_count": 28,
   "id": "0ca13c28-251d-442a-b829-222c9160cc61",
   "metadata": {},
   "outputs": [
    {
     "name": "stdout",
     "output_type": "stream",
     "text": [
      "A személy neve vagy John vagy Dave.\n"
     ]
    }
   ],
   "source": [
    "name = \"John\"\n",
    "if name in [\"John\", \"Dave\"]:\n",
    "    print(\"A személy neve vagy John vagy Dave.\")"
   ]
  },
  {
   "cell_type": "code",
   "execution_count": 29,
   "id": "417b2eb5-f180-4d8f-91aa-c803586aa42e",
   "metadata": {},
   "outputs": [
    {
     "name": "stdout",
     "output_type": "stream",
     "text": [
      "A személy normál súlyú.\n"
     ]
    }
   ],
   "source": [
    "BMI=20\n",
    "\n",
    "if BMI <= 18.5: \n",
    "    print('A személy alultáplált.')\n",
    "elif BMI > 18.5 and BMI <=25.0:\n",
    "    print('A személy normál súlyú.')\n",
    "elif BMI > 25.0 and BMI <=30.0 :\n",
    "    print('A személy túlsúlyos.')\n",
    "else:\n",
    "    print('A személy elhízott.')"
   ]
  },
  {
   "cell_type": "code",
   "execution_count": 30,
   "id": "58e9f3de-9783-4af1-8674-6f882876f68d",
   "metadata": {},
   "outputs": [
    {
     "name": "stdin",
     "output_type": "stream",
     "text": [
      "Please introduce value for ViEWS:  10\n",
      "Please introduce fatal arrhythmia status (yes = 1, no = 0): 10\n",
      "Please introduce diabetes status (yes = 1, no = 0): 10\n",
      "Please introduce Killip class (class І = 1, II = 2, III = 3, IV = 4): 10\n",
      "Please introduce value for blood urea nitrogen (BUN): 10\n",
      "Please introduce value for cardiac troponin I (cTnI): 10\n",
      "Please introduce value for age: 100\n"
     ]
    },
    {
     "name": "stdout",
     "output_type": "stream",
     "text": [
      "High (70%‐100%)\n"
     ]
    }
   ],
   "source": [
    "#Életfunkciót értékelő pontszám bekérése\n",
    "ViEWS = int(input('Please introduce value for ViEWS: '))\n",
    "#A betegnél előfordult szívritmuszavar (1: igen, 0: nem) bekérése:\n",
    "arrhythmia = int(input('Please introduce fatal arrhythmia status (yes = 1, no = 0):'))\n",
    "#Diabétesz előfordulása (1: igen, 0: nem):\n",
    "diabetes = int(input('Please introduce diabetes status (yes = 1, no = 0):'))\n",
    "#A szívelégtelenség súlyosságát jelző osztály (1–4, ahol 1 a legenyhébb, 4 a legsúlyosabb):\n",
    "Killip = int(input('Please introduce Killip class (class І = 1, II = 2, III = 3, IV = 4):'))\n",
    "#BUN érték:\n",
    "BUN = int(input('Please introduce value for blood urea nitrogen (BUN):'))\n",
    "#Szívspecifikus troponin I érték:\n",
    "cTnI = int(input('Please introduce value for cardiac troponin I (cTnI):'))\n",
    "#A beteg életkora:\n",
    "age = int(input('Please introduce value for age:'))\n",
    "\n",
    "if ViEWS < 5:\n",
    "    if arrhythmia:\n",
    "        if Killip > 2:\n",
    "            if cTnI >= 28:\n",
    "                print('High (70%‐100%)')\n",
    "            else:\n",
    "                if BUN < 7.9:\n",
    "                    print('Moderate (40%‐69%)')\n",
    "                else:\n",
    "                    print('Low (<40%)')  \n",
    "        else:\n",
    "            print('Low (<40%)')\n",
    "\n",
    "    else:\n",
    "        print('Low (<40%)')\n",
    "else:\n",
    "    if diabetes:\n",
    "        print('High (70%‐100%)')\n",
    "    else:\n",
    "        if age < 64:\n",
    "            print('Low (<40%)')\n",
    "        else:\n",
    "            print('Moderate (40%‐69%)')"
   ]
  },
  {
   "cell_type": "code",
   "execution_count": 32,
   "id": "9eaf3cb5-31a4-4f12-8d15-dc30c0de8bdd",
   "metadata": {},
   "outputs": [
    {
     "name": "stdout",
     "output_type": "stream",
     "text": [
      "10\n",
      "20\n",
      "30\n",
      "40\n",
      "50\n",
      "0\n",
      "2\n",
      "4\n",
      "6\n",
      "8\n"
     ]
    }
   ],
   "source": [
    "mylist=[10,20,30,40,50]\n",
    "\n",
    "for item in mylist:\n",
    "    print(item)"
   ]
  },
  {
   "cell_type": "code",
   "execution_count": 33,
   "id": "7045037f-d663-4a30-91fb-738d732084b2",
   "metadata": {},
   "outputs": [
    {
     "name": "stdout",
     "output_type": "stream",
     "text": [
      "0\n",
      "2\n",
      "4\n",
      "6\n",
      "8\n"
     ]
    }
   ],
   "source": [
    "   \n",
    "for item in range(0,10,2):\n",
    "    print(item)"
   ]
  },
  {
   "cell_type": "code",
   "execution_count": 34,
   "id": "5b22d18b-5baa-4b5a-9421-9bdb65664334",
   "metadata": {},
   "outputs": [
    {
     "name": "stdout",
     "output_type": "stream",
     "text": [
      "A harmadik kódrészlet kimenete; Az új szám  11\n",
      "A harmadik kódrészlet kimenete; Az új szám  12\n",
      "A harmadik kódrészlet kimenete; Az új szám  13\n",
      "A harmadik kódrészlet kimenete; Az új szám  14\n",
      "A harmadik kódrészlet kimenete; Az új szám  15\n",
      "A harmadik kódrészlet kimenete; Az új szám  21\n",
      "A harmadik kódrészlet kimenete; Az új szám  22\n",
      "A harmadik kódrészlet kimenete; Az új szám  23\n",
      "A harmadik kódrészlet kimenete; Az új szám  24\n",
      "A harmadik kódrészlet kimenete; Az új szám  25\n",
      "A harmadik kódrészlet kimenete; Az új szám  31\n",
      "A harmadik kódrészlet kimenete; Az új szám  32\n",
      "A harmadik kódrészlet kimenete; Az új szám  33\n",
      "A harmadik kódrészlet kimenete; Az új szám  34\n",
      "A harmadik kódrészlet kimenete; Az új szám  35\n",
      "A harmadik kódrészlet kimenete; Az új szám  41\n",
      "A harmadik kódrészlet kimenete; Az új szám  42\n",
      "A harmadik kódrészlet kimenete; Az új szám  43\n",
      "A harmadik kódrészlet kimenete; Az új szám  44\n",
      "A harmadik kódrészlet kimenete; Az új szám  45\n"
     ]
    }
   ],
   "source": [
    "# Az első kódrészlet\n",
    "# tizesek\n",
    "elso_lista = [10, 20, 30, 40]  \n",
    "# egyesek\n",
    "masodik_lista = [1, 2, 3, 4, 5]\n",
    "\n",
    "# Az első for ciklus (az elso_lista elemein iterálunk)\n",
    "for tizes in elso_lista:\n",
    "    # A második kódrészlet (egy második for ciklus, ami masodik_lista elemein megy végig)\n",
    "    for egyes in masodik_lista:\n",
    "        # A harmadik kódrészlet (második lista elemein iterálunk)\n",
    "        # Minden egyes 'tizes' értékhez hozzáadjuk az 'egyes' értéket.\n",
    "        uj_szam = tizes + egyes  \n",
    "        # A harmadik kódrészlet kimenete: Az uj_szam kiszámítása.\n",
    "        # Az eredmény kiíratása\n",
    "        print('A harmadik kódrészlet kimenete; Az új szám ', uj_szam)  "
   ]
  },
  {
   "cell_type": "code",
   "execution_count": 35,
   "id": "e5f17c79-eb8f-43a4-be91-738a85117eca",
   "metadata": {},
   "outputs": [
    {
     "name": "stdout",
     "output_type": "stream",
     "text": [
      "0 egy\n",
      "1 kettő\n",
      "2 három\n",
      "3 négy\n",
      "4 öt\n"
     ]
    }
   ],
   "source": [
    "lista=['egy','kettő','három','négy','öt']\n",
    "\n",
    "for index,item in enumerate(lista):\n",
    "    print(index,item)"
   ]
  },
  {
   "cell_type": "code",
   "execution_count": 36,
   "id": "4961015d-c2dc-47cf-b062-79ecec3ad63e",
   "metadata": {},
   "outputs": [
    {
     "name": "stdout",
     "output_type": "stream",
     "text": [
      "a 5 és b 10 összege: 15\n"
     ]
    }
   ],
   "source": [
    "# függvény definíció\n",
    "def sum(x, y):\n",
    "    return x + y  # mivel a függvény egyszerű, egy sorban is visszaadható\n",
    "\n",
    "# függvény alkalmazása\n",
    "\n",
    "a = 5\n",
    "b = 10\n",
    "\n",
    "print('a {} és b {} összege: {}'.format(a, b, sum(a, b)))"
   ]
  },
  {
   "cell_type": "code",
   "execution_count": 37,
   "id": "d914ac6c-e611-462b-9fc6-6e78da2d4cd3",
   "metadata": {},
   "outputs": [
    {
     "name": "stdout",
     "output_type": "stream",
     "text": [
      "a 5 és b 10 összege: 15\n",
      "a 5, b 10 és c 20 összege: 35\n"
     ]
    }
   ],
   "source": [
    "# ez a függvény így 2 vagy 3 argumentum összegét is visszaadhatja\n",
    "def sum2(x, y, z=0):\n",
    "    return x + y + z \n",
    "\n",
    "# függvény alkalmazása\n",
    "\n",
    "a = 5\n",
    "b = 10\n",
    "c = 20\n",
    "\n",
    "print('a {} és b {} összege: {}'.format(a, b, sum2(a, b)))\n",
    "print('a {}, b {} és c {} összege: {}'.format(a, b, c, sum2(a, b, c)))"
   ]
  },
  {
   "cell_type": "code",
   "execution_count": 38,
   "id": "ca8e1eec-85e8-4022-8ab5-1a3d0cd2d5e2",
   "metadata": {},
   "outputs": [
    {
     "name": "stdout",
     "output_type": "stream",
     "text": [
      "8\n",
      "17\n",
      "37\n"
     ]
    }
   ],
   "source": [
    "def sumsub(x, y, z1=0, z2=0):\n",
    "    return x - y + z1 - z2\n",
    "\n",
    "# a függvény alkalmazása\n",
    "\n",
    "a=5\n",
    "b=10\n",
    "c=20\n",
    "d=30\n",
    "\n",
    "print(sumsub(12,4))\n",
    "print(sumsub(42,15,z2=10))\n",
    "print(sumsub(42,15,z1=20, z2=10))"
   ]
  },
  {
   "cell_type": "code",
   "execution_count": 39,
   "id": "de7c7ca1-3700-47ae-a13c-86c950a6c9be",
   "metadata": {},
   "outputs": [
    {
     "name": "stdin",
     "output_type": "stream",
     "text": [
      "Kérem adja meg a szisztolés vérnyomás értékét:  100\n",
      "Kérem adja meg a diasztolés vérnyomás értékét:  10\n"
     ]
    },
    {
     "name": "stdout",
     "output_type": "stream",
     "text": [
      "Normal\n"
     ]
    }
   ],
   "source": [
    "# Vérnyomás függvény\n",
    "def blood_pressure(systolic_bp, diastolic_bp):\n",
    "    if (systolic_bp < 120 and diastolic_bp < 80):\n",
    "        print('Normal')\n",
    "    elif (120 < systolic_bp <= 129 and diastolic_bp < 80):\n",
    "        print('Elevated')\n",
    "    elif (130 <= systolic_bp <= 139 or 80 <= diastolic_bp < 89):\n",
    "        print('High blood pressure, hypertension stage 1')\n",
    "    elif (systolic_bp > 180 or diastolic_bp > 120):\n",
    "        print('High blood pressure. Consult your doctor immediately.')\n",
    "    elif (140 <= systolic_bp < 180 or 90 <= diastolic_bp < 120):\n",
    "        print('High blood pressure, hypertension stage 2')\n",
    "\n",
    "systolic_bp = int(input('Kérem adja meg a szisztolés vérnyomás értékét: '))\n",
    "diastolic_bp = int(input('Kérem adja meg a diasztolés vérnyomás értékét: '))\n",
    "blood_pressure(systolic_bp, diastolic_bp)"
   ]
  },
  {
   "cell_type": "code",
   "execution_count": 40,
   "id": "64e7a39c-6d14-49e0-b443-655d0880e4f4",
   "metadata": {},
   "outputs": [
    {
     "name": "stdout",
     "output_type": "stream",
     "text": [
      "Subject 0 -> Systolic bp = 119 and diastolic bp = 86\n",
      "High blood pressure, hypertension stage 1\n",
      "Subject 1 -> Systolic bp = 127 and diastolic bp = 129\n",
      "High blood pressure. Consult your doctor immediately.\n",
      "Subject 2 -> Systolic bp = 127 and diastolic bp = 114\n",
      "High blood pressure, hypertension stage 2\n",
      "Subject 3 -> Systolic bp = 197 and diastolic bp = 84\n",
      "High blood pressure, hypertension stage 1\n",
      "Subject 4 -> Systolic bp = 133 and diastolic bp = 91\n",
      "High blood pressure, hypertension stage 1\n",
      "Subject 5 -> Systolic bp = 191 and diastolic bp = 119\n",
      "High blood pressure. Consult your doctor immediately.\n",
      "Subject 6 -> Systolic bp = 184 and diastolic bp = 82\n",
      "High blood pressure, hypertension stage 1\n",
      "Subject 7 -> Systolic bp = 162 and diastolic bp = 78\n",
      "High blood pressure, hypertension stage 2\n",
      "Subject 8 -> Systolic bp = 94 and diastolic bp = 115\n",
      "High blood pressure, hypertension stage 2\n",
      "Subject 9 -> Systolic bp = 186 and diastolic bp = 125\n",
      "High blood pressure. Consult your doctor immediately.\n"
     ]
    }
   ],
   "source": [
    "# 10 ismétlés a 10 beteg kiértékeléséhez:\n",
    "for i in np.arange(10):\n",
    "    #szisztolés vérnyomás generálása 90 és 200 Hgmm között\n",
    "    systolic_bp = random.randint(90, 200)\n",
    "    #diasztolés vérnyomás generálása 60 és 130 Hgmm között\n",
    "    diastolic_bp = random.randint(60, 130)\n",
    "    #Kiírjuk az aktuális beteg szisztolés és diasztolés vérnyomását\n",
    "    print('Subject {} -> Systolic bp = {} and diastolic bp = {}'.format(i, systolic_bp, diastolic_bp))\n",
    "    #Meghívjuk a blood_pressure függvényt, amely kategorizálja a vérnyomást\n",
    "    blood_pressure(systolic_bp, diastolic_bp)"
   ]
  },
  {
   "cell_type": "code",
   "execution_count": null,
   "id": "628d444a-4778-4d76-8ce4-ed053c05a50c",
   "metadata": {},
   "outputs": [],
   "source": []
  }
 ],
 "metadata": {
  "kernelspec": {
   "display_name": "Python 3 (ipykernel)",
   "language": "python",
   "name": "python3"
  },
  "language_info": {
   "codemirror_mode": {
    "name": "ipython",
    "version": 3
   },
   "file_extension": ".py",
   "mimetype": "text/x-python",
   "name": "python",
   "nbconvert_exporter": "python",
   "pygments_lexer": "ipython3",
   "version": "3.13.2"
  }
 },
 "nbformat": 4,
 "nbformat_minor": 5
}
